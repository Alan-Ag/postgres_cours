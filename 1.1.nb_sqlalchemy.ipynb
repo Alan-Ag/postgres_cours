{
 "cells": [
  {
   "cell_type": "markdown",
   "metadata": {},
   "source": [
    "# SQLAlchemy"
   ]
  },
  {
   "cell_type": "code",
   "execution_count": 97,
   "metadata": {},
   "outputs": [],
   "source": [
    "import pandas as pd\n",
    "from sqlalchemy import create_engine, text\n",
    "from faker import Faker\n",
    "import psycopg2\n",
    "\n",
    "# Database connection details\n",
    "DB_NAME = 'commerce'\n",
    "DB_USER = 'postgres'\n",
    "DB_PASSWORD = '025858'\n",
    "DB_HOST = 'localhost'\n",
    "DB_PORT = '5432'\n",
    "\n",
    "# Create SQLAlchemy engine\n",
    "engine = create_engine(f'postgresql://{DB_USER}:{DB_PASSWORD}@{DB_HOST}:{DB_PORT}/{DB_NAME}')"
   ]
  },
  {
   "cell_type": "code",
   "execution_count": 98,
   "metadata": {},
   "outputs": [
    {
     "data": {
      "application/vnd.microsoft.datawrangler.viewer.v0+json": {
       "columns": [
        {
         "name": "index",
         "rawType": "int64",
         "type": "integer"
        },
        {
         "name": "commande_id",
         "rawType": "int64",
         "type": "integer"
        },
        {
         "name": "date_commande",
         "rawType": "object",
         "type": "unknown"
        },
        {
         "name": "montant",
         "rawType": "float64",
         "type": "float"
        },
        {
         "name": "nom",
         "rawType": "object",
         "type": "string"
        },
        {
         "name": "prenom",
         "rawType": "object",
         "type": "string"
        },
        {
         "name": "produit",
         "rawType": "object",
         "type": "string"
        },
        {
         "name": "quantite",
         "rawType": "int64",
         "type": "integer"
        }
       ],
       "conversionMethod": "pd.DataFrame",
       "ref": "88a55544-1669-4ad5-922f-384a9ef57629",
       "rows": [
        [
         "0",
         "3",
         "2021-01-02",
         "200.0",
         "Doe",
         "John",
         "Pantalon CHANEL",
         "2"
        ],
        [
         "1",
         "3",
         "2021-01-02",
         "200.0",
         "Doe",
         "John",
         "Chaussettes GUCCI",
         "1"
        ],
        [
         "2",
         "3",
         "2021-01-02",
         "200.0",
         "Doe",
         "John",
         "western",
         "4"
        ],
        [
         "3",
         "3",
         "2021-01-02",
         "200.0",
         "Doe",
         "John",
         "choose",
         "3"
        ],
        [
         "4",
         "3",
         "2021-01-02",
         "200.0",
         "Doe",
         "John",
         "paper",
         "1"
        ],
        [
         "5",
         "3",
         "2021-01-02",
         "200.0",
         "Doe",
         "John",
         "believe",
         "9"
        ],
        [
         "6",
         "3",
         "2021-01-02",
         "200.0",
         "Doe",
         "John",
         "computer",
         "6"
        ],
        [
         "7",
         "3",
         "2021-01-02",
         "200.0",
         "Doe",
         "John",
         "best",
         "3"
        ],
        [
         "8",
         "3",
         "2021-01-02",
         "200.0",
         "Doe",
         "John",
         "T-shirt DIOR",
         "2"
        ],
        [
         "9",
         "3",
         "2021-01-02",
         "200.0",
         "Doe",
         "John",
         "data",
         "4"
        ],
        [
         "10",
         "3",
         "2021-01-02",
         "200.0",
         "Doe",
         "John",
         "brother",
         "4"
        ],
        [
         "11",
         "3",
         "2021-01-02",
         "200.0",
         "Doe",
         "John",
         "water",
         "4"
        ],
        [
         "12",
         "3",
         "2021-01-02",
         "200.0",
         "Doe",
         "John",
         "think",
         "1"
        ]
       ],
       "shape": {
        "columns": 7,
        "rows": 13
       }
      },
      "text/html": [
       "<div>\n",
       "<style scoped>\n",
       "    .dataframe tbody tr th:only-of-type {\n",
       "        vertical-align: middle;\n",
       "    }\n",
       "\n",
       "    .dataframe tbody tr th {\n",
       "        vertical-align: top;\n",
       "    }\n",
       "\n",
       "    .dataframe thead th {\n",
       "        text-align: right;\n",
       "    }\n",
       "</style>\n",
       "<table border=\"1\" class=\"dataframe\">\n",
       "  <thead>\n",
       "    <tr style=\"text-align: right;\">\n",
       "      <th></th>\n",
       "      <th>commande_id</th>\n",
       "      <th>date_commande</th>\n",
       "      <th>montant</th>\n",
       "      <th>nom</th>\n",
       "      <th>prenom</th>\n",
       "      <th>produit</th>\n",
       "      <th>quantite</th>\n",
       "    </tr>\n",
       "  </thead>\n",
       "  <tbody>\n",
       "    <tr>\n",
       "      <th>0</th>\n",
       "      <td>3</td>\n",
       "      <td>2021-01-02</td>\n",
       "      <td>200.0</td>\n",
       "      <td>Doe</td>\n",
       "      <td>John</td>\n",
       "      <td>Pantalon CHANEL</td>\n",
       "      <td>2</td>\n",
       "    </tr>\n",
       "    <tr>\n",
       "      <th>1</th>\n",
       "      <td>3</td>\n",
       "      <td>2021-01-02</td>\n",
       "      <td>200.0</td>\n",
       "      <td>Doe</td>\n",
       "      <td>John</td>\n",
       "      <td>Chaussettes GUCCI</td>\n",
       "      <td>1</td>\n",
       "    </tr>\n",
       "    <tr>\n",
       "      <th>2</th>\n",
       "      <td>3</td>\n",
       "      <td>2021-01-02</td>\n",
       "      <td>200.0</td>\n",
       "      <td>Doe</td>\n",
       "      <td>John</td>\n",
       "      <td>western</td>\n",
       "      <td>4</td>\n",
       "    </tr>\n",
       "    <tr>\n",
       "      <th>3</th>\n",
       "      <td>3</td>\n",
       "      <td>2021-01-02</td>\n",
       "      <td>200.0</td>\n",
       "      <td>Doe</td>\n",
       "      <td>John</td>\n",
       "      <td>choose</td>\n",
       "      <td>3</td>\n",
       "    </tr>\n",
       "    <tr>\n",
       "      <th>4</th>\n",
       "      <td>3</td>\n",
       "      <td>2021-01-02</td>\n",
       "      <td>200.0</td>\n",
       "      <td>Doe</td>\n",
       "      <td>John</td>\n",
       "      <td>paper</td>\n",
       "      <td>1</td>\n",
       "    </tr>\n",
       "    <tr>\n",
       "      <th>5</th>\n",
       "      <td>3</td>\n",
       "      <td>2021-01-02</td>\n",
       "      <td>200.0</td>\n",
       "      <td>Doe</td>\n",
       "      <td>John</td>\n",
       "      <td>believe</td>\n",
       "      <td>9</td>\n",
       "    </tr>\n",
       "    <tr>\n",
       "      <th>6</th>\n",
       "      <td>3</td>\n",
       "      <td>2021-01-02</td>\n",
       "      <td>200.0</td>\n",
       "      <td>Doe</td>\n",
       "      <td>John</td>\n",
       "      <td>computer</td>\n",
       "      <td>6</td>\n",
       "    </tr>\n",
       "    <tr>\n",
       "      <th>7</th>\n",
       "      <td>3</td>\n",
       "      <td>2021-01-02</td>\n",
       "      <td>200.0</td>\n",
       "      <td>Doe</td>\n",
       "      <td>John</td>\n",
       "      <td>best</td>\n",
       "      <td>3</td>\n",
       "    </tr>\n",
       "    <tr>\n",
       "      <th>8</th>\n",
       "      <td>3</td>\n",
       "      <td>2021-01-02</td>\n",
       "      <td>200.0</td>\n",
       "      <td>Doe</td>\n",
       "      <td>John</td>\n",
       "      <td>T-shirt DIOR</td>\n",
       "      <td>2</td>\n",
       "    </tr>\n",
       "    <tr>\n",
       "      <th>9</th>\n",
       "      <td>3</td>\n",
       "      <td>2021-01-02</td>\n",
       "      <td>200.0</td>\n",
       "      <td>Doe</td>\n",
       "      <td>John</td>\n",
       "      <td>data</td>\n",
       "      <td>4</td>\n",
       "    </tr>\n",
       "    <tr>\n",
       "      <th>10</th>\n",
       "      <td>3</td>\n",
       "      <td>2021-01-02</td>\n",
       "      <td>200.0</td>\n",
       "      <td>Doe</td>\n",
       "      <td>John</td>\n",
       "      <td>brother</td>\n",
       "      <td>4</td>\n",
       "    </tr>\n",
       "    <tr>\n",
       "      <th>11</th>\n",
       "      <td>3</td>\n",
       "      <td>2021-01-02</td>\n",
       "      <td>200.0</td>\n",
       "      <td>Doe</td>\n",
       "      <td>John</td>\n",
       "      <td>water</td>\n",
       "      <td>4</td>\n",
       "    </tr>\n",
       "    <tr>\n",
       "      <th>12</th>\n",
       "      <td>3</td>\n",
       "      <td>2021-01-02</td>\n",
       "      <td>200.0</td>\n",
       "      <td>Doe</td>\n",
       "      <td>John</td>\n",
       "      <td>think</td>\n",
       "      <td>1</td>\n",
       "    </tr>\n",
       "  </tbody>\n",
       "</table>\n",
       "</div>"
      ],
      "text/plain": [
       "    commande_id date_commande  montant  nom prenom            produit  \\\n",
       "0             3    2021-01-02    200.0  Doe   John    Pantalon CHANEL   \n",
       "1             3    2021-01-02    200.0  Doe   John  Chaussettes GUCCI   \n",
       "2             3    2021-01-02    200.0  Doe   John            western   \n",
       "3             3    2021-01-02    200.0  Doe   John             choose   \n",
       "4             3    2021-01-02    200.0  Doe   John              paper   \n",
       "5             3    2021-01-02    200.0  Doe   John            believe   \n",
       "6             3    2021-01-02    200.0  Doe   John           computer   \n",
       "7             3    2021-01-02    200.0  Doe   John               best   \n",
       "8             3    2021-01-02    200.0  Doe   John       T-shirt DIOR   \n",
       "9             3    2021-01-02    200.0  Doe   John               data   \n",
       "10            3    2021-01-02    200.0  Doe   John            brother   \n",
       "11            3    2021-01-02    200.0  Doe   John              water   \n",
       "12            3    2021-01-02    200.0  Doe   John              think   \n",
       "\n",
       "    quantite  \n",
       "0          2  \n",
       "1          1  \n",
       "2          4  \n",
       "3          3  \n",
       "4          1  \n",
       "5          9  \n",
       "6          6  \n",
       "7          3  \n",
       "8          2  \n",
       "9          4  \n",
       "10         4  \n",
       "11         4  \n",
       "12         1  "
      ]
     },
     "execution_count": 98,
     "metadata": {},
     "output_type": "execute_result"
    }
   ],
   "source": [
    "# Check if the table 'clients' exists, and create it if it does not\n",
    "clients = pd.read_sql(sql, engine)\n",
    "clients"
   ]
  },
  {
   "cell_type": "code",
   "execution_count": 99,
   "metadata": {},
   "outputs": [
    {
     "data": {
      "application/vnd.microsoft.datawrangler.viewer.v0+json": {
       "columns": [
        {
         "name": "index",
         "rawType": "int64",
         "type": "integer"
        },
        {
         "name": "id",
         "rawType": "int64",
         "type": "integer"
        },
        {
         "name": "nom",
         "rawType": "object",
         "type": "string"
        },
        {
         "name": "prix",
         "rawType": "float64",
         "type": "float"
        }
       ],
       "conversionMethod": "pd.DataFrame",
       "ref": "e505117b-79c5-492d-aa77-5f30828f6b49",
       "rows": [
        [
         "0",
         "1",
         "Chaussettes GUCCI",
         "100.0"
        ],
        [
         "1",
         "2",
         "Pantoufles VERSACE",
         "200.0"
        ],
        [
         "2",
         "3",
         "T-shirt DIOR",
         "300.0"
        ],
        [
         "3",
         "4",
         "Pantalon CHANEL",
         "400.0"
        ],
        [
         "4",
         "5",
         "Casquette NIKE",
         "50.0"
        ],
        [
         "5",
         "6",
         "Chaussures ADIDAS",
         "150.0"
        ],
        [
         "6",
         "7",
         "save",
         "760.55"
        ],
        [
         "7",
         "8",
         "could",
         "346.42"
        ],
        [
         "8",
         "9",
         "well",
         "654.03"
        ],
        [
         "9",
         "10",
         "share",
         "813.25"
        ],
        [
         "10",
         "11",
         "keep",
         "445.87"
        ],
        [
         "11",
         "12",
         "war",
         "322.72"
        ],
        [
         "12",
         "13",
         "institution",
         "605.47"
        ],
        [
         "13",
         "14",
         "capital",
         "494.11"
        ],
        [
         "14",
         "15",
         "western",
         "485.45"
        ],
        [
         "15",
         "16",
         "every",
         "125.52"
        ],
        [
         "16",
         "17",
         "thus",
         "797.14"
        ],
        [
         "17",
         "18",
         "entire",
         "91.17"
        ],
        [
         "18",
         "19",
         "of",
         "603.48"
        ],
        [
         "19",
         "20",
         "democratic",
         "980.91"
        ],
        [
         "20",
         "21",
         "treat",
         "569.4"
        ],
        [
         "21",
         "22",
         "choose",
         "352.02"
        ],
        [
         "22",
         "23",
         "give",
         "832.02"
        ],
        [
         "23",
         "24",
         "card",
         "397.86"
        ],
        [
         "24",
         "25",
         "once",
         "832.04"
        ],
        [
         "25",
         "26",
         "person",
         "370.22"
        ],
        [
         "26",
         "27",
         "performance",
         "370.83"
        ],
        [
         "27",
         "28",
         "pretty",
         "86.49"
        ],
        [
         "28",
         "29",
         "finally",
         "999.9"
        ],
        [
         "29",
         "30",
         "usually",
         "602.8"
        ],
        [
         "30",
         "31",
         "opportunity",
         "318.6"
        ],
        [
         "31",
         "32",
         "rich",
         "364.66"
        ],
        [
         "32",
         "33",
         "democratic",
         "454.62"
        ],
        [
         "33",
         "34",
         "lay",
         "37.47"
        ],
        [
         "34",
         "35",
         "ten",
         "897.3"
        ],
        [
         "35",
         "36",
         "believe",
         "788.88"
        ],
        [
         "36",
         "37",
         "difference",
         "438.41"
        ],
        [
         "37",
         "38",
         "discussion",
         "31.75"
        ],
        [
         "38",
         "39",
         "former",
         "460.83"
        ],
        [
         "39",
         "40",
         "loss",
         "844.67"
        ],
        [
         "40",
         "41",
         "paper",
         "528.1"
        ],
        [
         "41",
         "42",
         "behavior",
         "52.92"
        ],
        [
         "42",
         "43",
         "safe",
         "132.15"
        ],
        [
         "43",
         "44",
         "fly",
         "451.76"
        ],
        [
         "44",
         "45",
         "leader",
         "839.19"
        ],
        [
         "45",
         "46",
         "its",
         "695.83"
        ],
        [
         "46",
         "47",
         "tonight",
         "196.31"
        ],
        [
         "47",
         "48",
         "base",
         "55.28"
        ],
        [
         "48",
         "49",
         "name",
         "548.13"
        ],
        [
         "49",
         "50",
         "door",
         "916.3"
        ]
       ],
       "shape": {
        "columns": 3,
        "rows": 606
       }
      },
      "text/html": [
       "<div>\n",
       "<style scoped>\n",
       "    .dataframe tbody tr th:only-of-type {\n",
       "        vertical-align: middle;\n",
       "    }\n",
       "\n",
       "    .dataframe tbody tr th {\n",
       "        vertical-align: top;\n",
       "    }\n",
       "\n",
       "    .dataframe thead th {\n",
       "        text-align: right;\n",
       "    }\n",
       "</style>\n",
       "<table border=\"1\" class=\"dataframe\">\n",
       "  <thead>\n",
       "    <tr style=\"text-align: right;\">\n",
       "      <th></th>\n",
       "      <th>id</th>\n",
       "      <th>nom</th>\n",
       "      <th>prix</th>\n",
       "    </tr>\n",
       "  </thead>\n",
       "  <tbody>\n",
       "    <tr>\n",
       "      <th>0</th>\n",
       "      <td>1</td>\n",
       "      <td>Chaussettes GUCCI</td>\n",
       "      <td>100.00</td>\n",
       "    </tr>\n",
       "    <tr>\n",
       "      <th>1</th>\n",
       "      <td>2</td>\n",
       "      <td>Pantoufles VERSACE</td>\n",
       "      <td>200.00</td>\n",
       "    </tr>\n",
       "    <tr>\n",
       "      <th>2</th>\n",
       "      <td>3</td>\n",
       "      <td>T-shirt DIOR</td>\n",
       "      <td>300.00</td>\n",
       "    </tr>\n",
       "    <tr>\n",
       "      <th>3</th>\n",
       "      <td>4</td>\n",
       "      <td>Pantalon CHANEL</td>\n",
       "      <td>400.00</td>\n",
       "    </tr>\n",
       "    <tr>\n",
       "      <th>4</th>\n",
       "      <td>5</td>\n",
       "      <td>Casquette NIKE</td>\n",
       "      <td>50.00</td>\n",
       "    </tr>\n",
       "    <tr>\n",
       "      <th>...</th>\n",
       "      <td>...</td>\n",
       "      <td>...</td>\n",
       "      <td>...</td>\n",
       "    </tr>\n",
       "    <tr>\n",
       "      <th>601</th>\n",
       "      <td>652</td>\n",
       "      <td>growth</td>\n",
       "      <td>258.80</td>\n",
       "    </tr>\n",
       "    <tr>\n",
       "      <th>602</th>\n",
       "      <td>653</td>\n",
       "      <td>option</td>\n",
       "      <td>163.35</td>\n",
       "    </tr>\n",
       "    <tr>\n",
       "      <th>603</th>\n",
       "      <td>654</td>\n",
       "      <td>modern</td>\n",
       "      <td>703.35</td>\n",
       "    </tr>\n",
       "    <tr>\n",
       "      <th>604</th>\n",
       "      <td>655</td>\n",
       "      <td>fly</td>\n",
       "      <td>405.61</td>\n",
       "    </tr>\n",
       "    <tr>\n",
       "      <th>605</th>\n",
       "      <td>656</td>\n",
       "      <td>strong</td>\n",
       "      <td>854.97</td>\n",
       "    </tr>\n",
       "  </tbody>\n",
       "</table>\n",
       "<p>606 rows × 3 columns</p>\n",
       "</div>"
      ],
      "text/plain": [
       "      id                 nom    prix\n",
       "0      1   Chaussettes GUCCI  100.00\n",
       "1      2  Pantoufles VERSACE  200.00\n",
       "2      3        T-shirt DIOR  300.00\n",
       "3      4     Pantalon CHANEL  400.00\n",
       "4      5      Casquette NIKE   50.00\n",
       "..   ...                 ...     ...\n",
       "601  652              growth  258.80\n",
       "602  653              option  163.35\n",
       "603  654              modern  703.35\n",
       "604  655                 fly  405.61\n",
       "605  656              strong  854.97\n",
       "\n",
       "[606 rows x 3 columns]"
      ]
     },
     "execution_count": 99,
     "metadata": {},
     "output_type": "execute_result"
    }
   ],
   "source": [
    "sql = text('SELECT * FROM produits')\n",
    "produits = pd.read_sql(sql, engine)\n",
    "produits"
   ]
  },
  {
   "cell_type": "code",
   "execution_count": 100,
   "metadata": {},
   "outputs": [
    {
     "data": {
      "application/vnd.microsoft.datawrangler.viewer.v0+json": {
       "columns": [
        {
         "name": "index",
         "rawType": "int64",
         "type": "integer"
        },
        {
         "name": "id",
         "rawType": "int64",
         "type": "integer"
        },
        {
         "name": "date_commande",
         "rawType": "object",
         "type": "unknown"
        },
        {
         "name": "montant",
         "rawType": "float64",
         "type": "float"
        },
        {
         "name": "client_id",
         "rawType": "int64",
         "type": "integer"
        }
       ],
       "conversionMethod": "pd.DataFrame",
       "ref": "48b512ba-a32b-4d3c-8ee8-0e33fabd76ae",
       "rows": [
        [
         "0",
         "2",
         "2021-01-01",
         "100.0",
         "1"
        ],
        [
         "1",
         "3",
         "2021-01-02",
         "200.0",
         "1"
        ],
        [
         "2",
         "4",
         "2021-01-03",
         "300.0",
         "1"
        ],
        [
         "3",
         "5",
         "2021-01-04",
         "400.0",
         "2"
        ],
        [
         "4",
         "6",
         "2021-01-05",
         "500.0",
         "2"
        ],
        [
         "5",
         "7",
         "2021-01-07",
         "700.0",
         "3"
        ],
        [
         "6",
         "8",
         "2021-01-08",
         "800.0",
         "4"
        ],
        [
         "7",
         "9",
         "2025-01-20",
         "4275.99",
         "80"
        ],
        [
         "8",
         "10",
         "2025-01-13",
         "4153.38",
         "27"
        ],
        [
         "9",
         "11",
         "2025-01-20",
         "1603.21",
         "12"
        ],
        [
         "10",
         "12",
         "2025-02-07",
         "1991.01",
         "11"
        ],
        [
         "11",
         "13",
         "2025-01-20",
         "3563.21",
         "37"
        ],
        [
         "12",
         "14",
         "2025-01-07",
         "4492.08",
         "52"
        ],
        [
         "13",
         "15",
         "2025-01-04",
         "2199.57",
         "63"
        ],
        [
         "14",
         "16",
         "2025-01-21",
         "4720.18",
         "70"
        ],
        [
         "15",
         "17",
         "2025-01-29",
         "4092.61",
         "36"
        ],
        [
         "16",
         "18",
         "2025-01-12",
         "3352.05",
         "14"
        ],
        [
         "17",
         "19",
         "2025-01-26",
         "1656.31",
         "68"
        ],
        [
         "18",
         "20",
         "2025-01-11",
         "540.08",
         "51"
        ],
        [
         "19",
         "21",
         "2025-01-02",
         "1886.8",
         "106"
        ],
        [
         "20",
         "22",
         "2025-01-14",
         "480.39",
         "38"
        ],
        [
         "21",
         "23",
         "2025-01-25",
         "1939.9",
         "76"
        ],
        [
         "22",
         "24",
         "2025-01-12",
         "3230.05",
         "23"
        ],
        [
         "23",
         "25",
         "2025-02-08",
         "1746.26",
         "42"
        ],
        [
         "24",
         "26",
         "2025-01-23",
         "3420.49",
         "3"
        ],
        [
         "25",
         "27",
         "2025-01-04",
         "2085.54",
         "46"
        ],
        [
         "26",
         "28",
         "2025-02-01",
         "382.03",
         "36"
        ],
        [
         "27",
         "29",
         "2025-01-31",
         "541.54",
         "17"
        ],
        [
         "28",
         "30",
         "2025-01-08",
         "2906.48",
         "13"
        ],
        [
         "29",
         "31",
         "2025-01-27",
         "4584.98",
         "63"
        ],
        [
         "30",
         "32",
         "2025-01-08",
         "4558.14",
         "72"
        ],
        [
         "31",
         "33",
         "2025-01-06",
         "2771.26",
         "29"
        ],
        [
         "32",
         "34",
         "2025-02-07",
         "1741.64",
         "95"
        ],
        [
         "33",
         "35",
         "2025-01-01",
         "69.57",
         "103"
        ],
        [
         "34",
         "36",
         "2025-01-07",
         "2048.78",
         "41"
        ],
        [
         "35",
         "37",
         "2025-01-25",
         "4591.77",
         "21"
        ],
        [
         "36",
         "38",
         "2025-01-16",
         "2997.23",
         "90"
        ],
        [
         "37",
         "39",
         "2025-01-26",
         "1858.33",
         "95"
        ],
        [
         "38",
         "40",
         "2025-01-10",
         "2247.21",
         "74"
        ],
        [
         "39",
         "41",
         "2025-01-18",
         "415.44",
         "69"
        ],
        [
         "40",
         "42",
         "2025-01-21",
         "4779.39",
         "25"
        ],
        [
         "41",
         "43",
         "2025-01-18",
         "1446.4",
         "1"
        ],
        [
         "42",
         "44",
         "2025-01-19",
         "1035.82",
         "73"
        ],
        [
         "43",
         "45",
         "2025-01-28",
         "1808.15",
         "68"
        ],
        [
         "44",
         "46",
         "2025-01-04",
         "77.51",
         "80"
        ],
        [
         "45",
         "47",
         "2025-02-04",
         "4450.25",
         "38"
        ],
        [
         "46",
         "48",
         "2025-01-15",
         "2012.75",
         "29"
        ],
        [
         "47",
         "49",
         "2025-01-31",
         "2205.49",
         "83"
        ],
        [
         "48",
         "50",
         "2025-01-04",
         "1288.34",
         "23"
        ],
        [
         "49",
         "51",
         "2025-02-01",
         "1209.12",
         "16"
        ]
       ],
       "shape": {
        "columns": 4,
        "rows": 2407
       }
      },
      "text/html": [
       "<div>\n",
       "<style scoped>\n",
       "    .dataframe tbody tr th:only-of-type {\n",
       "        vertical-align: middle;\n",
       "    }\n",
       "\n",
       "    .dataframe tbody tr th {\n",
       "        vertical-align: top;\n",
       "    }\n",
       "\n",
       "    .dataframe thead th {\n",
       "        text-align: right;\n",
       "    }\n",
       "</style>\n",
       "<table border=\"1\" class=\"dataframe\">\n",
       "  <thead>\n",
       "    <tr style=\"text-align: right;\">\n",
       "      <th></th>\n",
       "      <th>id</th>\n",
       "      <th>date_commande</th>\n",
       "      <th>montant</th>\n",
       "      <th>client_id</th>\n",
       "    </tr>\n",
       "  </thead>\n",
       "  <tbody>\n",
       "    <tr>\n",
       "      <th>0</th>\n",
       "      <td>2</td>\n",
       "      <td>2021-01-01</td>\n",
       "      <td>100.00</td>\n",
       "      <td>1</td>\n",
       "    </tr>\n",
       "    <tr>\n",
       "      <th>1</th>\n",
       "      <td>3</td>\n",
       "      <td>2021-01-02</td>\n",
       "      <td>200.00</td>\n",
       "      <td>1</td>\n",
       "    </tr>\n",
       "    <tr>\n",
       "      <th>2</th>\n",
       "      <td>4</td>\n",
       "      <td>2021-01-03</td>\n",
       "      <td>300.00</td>\n",
       "      <td>1</td>\n",
       "    </tr>\n",
       "    <tr>\n",
       "      <th>3</th>\n",
       "      <td>5</td>\n",
       "      <td>2021-01-04</td>\n",
       "      <td>400.00</td>\n",
       "      <td>2</td>\n",
       "    </tr>\n",
       "    <tr>\n",
       "      <th>4</th>\n",
       "      <td>6</td>\n",
       "      <td>2021-01-05</td>\n",
       "      <td>500.00</td>\n",
       "      <td>2</td>\n",
       "    </tr>\n",
       "    <tr>\n",
       "      <th>...</th>\n",
       "      <td>...</td>\n",
       "      <td>...</td>\n",
       "      <td>...</td>\n",
       "      <td>...</td>\n",
       "    </tr>\n",
       "    <tr>\n",
       "      <th>2402</th>\n",
       "      <td>2531</td>\n",
       "      <td>2025-01-02</td>\n",
       "      <td>3836.75</td>\n",
       "      <td>4998</td>\n",
       "    </tr>\n",
       "    <tr>\n",
       "      <th>2403</th>\n",
       "      <td>2532</td>\n",
       "      <td>2025-02-08</td>\n",
       "      <td>2100.15</td>\n",
       "      <td>9781</td>\n",
       "    </tr>\n",
       "    <tr>\n",
       "      <th>2404</th>\n",
       "      <td>2533</td>\n",
       "      <td>2025-02-02</td>\n",
       "      <td>4529.70</td>\n",
       "      <td>4358</td>\n",
       "    </tr>\n",
       "    <tr>\n",
       "      <th>2405</th>\n",
       "      <td>2534</td>\n",
       "      <td>2025-01-19</td>\n",
       "      <td>4166.53</td>\n",
       "      <td>9294</td>\n",
       "    </tr>\n",
       "    <tr>\n",
       "      <th>2406</th>\n",
       "      <td>2535</td>\n",
       "      <td>2025-01-18</td>\n",
       "      <td>474.55</td>\n",
       "      <td>11339</td>\n",
       "    </tr>\n",
       "  </tbody>\n",
       "</table>\n",
       "<p>2407 rows × 4 columns</p>\n",
       "</div>"
      ],
      "text/plain": [
       "        id date_commande  montant  client_id\n",
       "0        2    2021-01-01   100.00          1\n",
       "1        3    2021-01-02   200.00          1\n",
       "2        4    2021-01-03   300.00          1\n",
       "3        5    2021-01-04   400.00          2\n",
       "4        6    2021-01-05   500.00          2\n",
       "...    ...           ...      ...        ...\n",
       "2402  2531    2025-01-02  3836.75       4998\n",
       "2403  2532    2025-02-08  2100.15       9781\n",
       "2404  2533    2025-02-02  4529.70       4358\n",
       "2405  2534    2025-01-19  4166.53       9294\n",
       "2406  2535    2025-01-18   474.55      11339\n",
       "\n",
       "[2407 rows x 4 columns]"
      ]
     },
     "execution_count": 100,
     "metadata": {},
     "output_type": "execute_result"
    }
   ],
   "source": [
    "sql = text('SELECT * FROM commandes')\n",
    "commandes = pd.read_sql(sql, engine)\n",
    "commandes"
   ]
  },
  {
   "cell_type": "code",
   "execution_count": 101,
   "metadata": {},
   "outputs": [
    {
     "data": {
      "application/vnd.microsoft.datawrangler.viewer.v0+json": {
       "columns": [
        {
         "name": "index",
         "rawType": "int64",
         "type": "integer"
        },
        {
         "name": "id",
         "rawType": "int64",
         "type": "integer"
        },
        {
         "name": "commande_id",
         "rawType": "int64",
         "type": "integer"
        },
        {
         "name": "produit_id",
         "rawType": "int64",
         "type": "integer"
        },
        {
         "name": "quantite",
         "rawType": "int64",
         "type": "integer"
        }
       ],
       "conversionMethod": "pd.DataFrame",
       "ref": "7d583eb8-9b87-4315-b14c-60d01b96fe72",
       "rows": [
        [
         "0",
         "1",
         "3",
         "4",
         "2"
        ],
        [
         "1",
         "2",
         "3",
         "1",
         "1"
        ],
        [
         "2",
         "3",
         "4",
         "2",
         "3"
        ],
        [
         "3",
         "4",
         "4",
         "3",
         "1"
        ],
        [
         "4",
         "5",
         "2",
         "4",
         "4"
        ],
        [
         "5",
         "6",
         "5",
         "5",
         "2"
        ],
        [
         "6",
         "7",
         "6",
         "6",
         "1"
        ],
        [
         "7",
         "8",
         "35",
         "11",
         "6"
        ],
        [
         "8",
         "9",
         "161",
         "30",
         "7"
        ],
        [
         "9",
         "10",
         "93",
         "13",
         "9"
        ],
        [
         "10",
         "11",
         "17",
         "43",
         "8"
        ],
        [
         "11",
         "12",
         "97",
         "38",
         "9"
        ],
        [
         "12",
         "13",
         "47",
         "24",
         "9"
        ],
        [
         "13",
         "14",
         "77",
         "31",
         "9"
        ],
        [
         "14",
         "15",
         "90",
         "54",
         "9"
        ],
        [
         "15",
         "16",
         "175",
         "6",
         "8"
        ],
        [
         "16",
         "17",
         "10",
         "22",
         "1"
        ],
        [
         "17",
         "18",
         "166",
         "7",
         "7"
        ],
        [
         "18",
         "19",
         "128",
         "28",
         "4"
        ],
        [
         "19",
         "20",
         "147",
         "14",
         "5"
        ],
        [
         "20",
         "21",
         "38",
         "52",
         "10"
        ],
        [
         "21",
         "22",
         "42",
         "13",
         "8"
        ],
        [
         "22",
         "23",
         "43",
         "40",
         "6"
        ],
        [
         "23",
         "24",
         "151",
         "26",
         "5"
        ],
        [
         "24",
         "25",
         "167",
         "55",
         "10"
        ],
        [
         "25",
         "26",
         "169",
         "15",
         "8"
        ],
        [
         "26",
         "27",
         "98",
         "36",
         "6"
        ],
        [
         "27",
         "28",
         "152",
         "26",
         "10"
        ],
        [
         "28",
         "29",
         "15",
         "49",
         "3"
        ],
        [
         "29",
         "30",
         "176",
         "30",
         "7"
        ],
        [
         "30",
         "31",
         "146",
         "19",
         "10"
        ],
        [
         "31",
         "32",
         "154",
         "3",
         "9"
        ],
        [
         "32",
         "33",
         "44",
         "52",
         "9"
        ],
        [
         "33",
         "34",
         "111",
         "40",
         "5"
        ],
        [
         "34",
         "35",
         "32",
         "49",
         "4"
        ],
        [
         "35",
         "36",
         "163",
         "54",
         "7"
        ],
        [
         "36",
         "37",
         "40",
         "38",
         "6"
        ],
        [
         "37",
         "38",
         "44",
         "48",
         "5"
        ],
        [
         "38",
         "39",
         "40",
         "6",
         "5"
        ],
        [
         "39",
         "40",
         "98",
         "38",
         "3"
        ],
        [
         "40",
         "41",
         "107",
         "43",
         "6"
        ],
        [
         "41",
         "42",
         "87",
         "44",
         "2"
        ],
        [
         "42",
         "43",
         "39",
         "15",
         "8"
        ],
        [
         "43",
         "44",
         "112",
         "19",
         "5"
        ],
        [
         "44",
         "45",
         "5",
         "51",
         "7"
        ],
        [
         "45",
         "46",
         "10",
         "34",
         "7"
        ],
        [
         "46",
         "47",
         "13",
         "10",
         "10"
        ],
        [
         "47",
         "48",
         "179",
         "22",
         "7"
        ],
        [
         "48",
         "49",
         "104",
         "36",
         "4"
        ],
        [
         "49",
         "50",
         "170",
         "53",
         "3"
        ]
       ],
       "shape": {
        "columns": 4,
        "rows": 6007
       }
      },
      "text/html": [
       "<div>\n",
       "<style scoped>\n",
       "    .dataframe tbody tr th:only-of-type {\n",
       "        vertical-align: middle;\n",
       "    }\n",
       "\n",
       "    .dataframe tbody tr th {\n",
       "        vertical-align: top;\n",
       "    }\n",
       "\n",
       "    .dataframe thead th {\n",
       "        text-align: right;\n",
       "    }\n",
       "</style>\n",
       "<table border=\"1\" class=\"dataframe\">\n",
       "  <thead>\n",
       "    <tr style=\"text-align: right;\">\n",
       "      <th></th>\n",
       "      <th>id</th>\n",
       "      <th>commande_id</th>\n",
       "      <th>produit_id</th>\n",
       "      <th>quantite</th>\n",
       "    </tr>\n",
       "  </thead>\n",
       "  <tbody>\n",
       "    <tr>\n",
       "      <th>0</th>\n",
       "      <td>1</td>\n",
       "      <td>3</td>\n",
       "      <td>4</td>\n",
       "      <td>2</td>\n",
       "    </tr>\n",
       "    <tr>\n",
       "      <th>1</th>\n",
       "      <td>2</td>\n",
       "      <td>3</td>\n",
       "      <td>1</td>\n",
       "      <td>1</td>\n",
       "    </tr>\n",
       "    <tr>\n",
       "      <th>2</th>\n",
       "      <td>3</td>\n",
       "      <td>4</td>\n",
       "      <td>2</td>\n",
       "      <td>3</td>\n",
       "    </tr>\n",
       "    <tr>\n",
       "      <th>3</th>\n",
       "      <td>4</td>\n",
       "      <td>4</td>\n",
       "      <td>3</td>\n",
       "      <td>1</td>\n",
       "    </tr>\n",
       "    <tr>\n",
       "      <th>4</th>\n",
       "      <td>5</td>\n",
       "      <td>2</td>\n",
       "      <td>4</td>\n",
       "      <td>4</td>\n",
       "    </tr>\n",
       "    <tr>\n",
       "      <th>...</th>\n",
       "      <td>...</td>\n",
       "      <td>...</td>\n",
       "      <td>...</td>\n",
       "      <td>...</td>\n",
       "    </tr>\n",
       "    <tr>\n",
       "      <th>6002</th>\n",
       "      <td>6003</td>\n",
       "      <td>708</td>\n",
       "      <td>363</td>\n",
       "      <td>2</td>\n",
       "    </tr>\n",
       "    <tr>\n",
       "      <th>6003</th>\n",
       "      <td>6004</td>\n",
       "      <td>937</td>\n",
       "      <td>222</td>\n",
       "      <td>3</td>\n",
       "    </tr>\n",
       "    <tr>\n",
       "      <th>6004</th>\n",
       "      <td>6005</td>\n",
       "      <td>258</td>\n",
       "      <td>560</td>\n",
       "      <td>7</td>\n",
       "    </tr>\n",
       "    <tr>\n",
       "      <th>6005</th>\n",
       "      <td>6006</td>\n",
       "      <td>317</td>\n",
       "      <td>403</td>\n",
       "      <td>8</td>\n",
       "    </tr>\n",
       "    <tr>\n",
       "      <th>6006</th>\n",
       "      <td>6007</td>\n",
       "      <td>223</td>\n",
       "      <td>499</td>\n",
       "      <td>1</td>\n",
       "    </tr>\n",
       "  </tbody>\n",
       "</table>\n",
       "<p>6007 rows × 4 columns</p>\n",
       "</div>"
      ],
      "text/plain": [
       "        id  commande_id  produit_id  quantite\n",
       "0        1            3           4         2\n",
       "1        2            3           1         1\n",
       "2        3            4           2         3\n",
       "3        4            4           3         1\n",
       "4        5            2           4         4\n",
       "...    ...          ...         ...       ...\n",
       "6002  6003          708         363         2\n",
       "6003  6004          937         222         3\n",
       "6004  6005          258         560         7\n",
       "6005  6006          317         403         8\n",
       "6006  6007          223         499         1\n",
       "\n",
       "[6007 rows x 4 columns]"
      ]
     },
     "execution_count": 101,
     "metadata": {},
     "output_type": "execute_result"
    }
   ],
   "source": [
    "sql = text('SELECT * FROM commandes_produits')\n",
    "commandes_produits = pd.read_sql(sql, engine)\n",
    "commandes_produits"
   ]
  },
  {
   "cell_type": "code",
   "execution_count": 102,
   "metadata": {},
   "outputs": [
    {
     "data": {
      "application/vnd.microsoft.datawrangler.viewer.v0+json": {
       "columns": [
        {
         "name": "index",
         "rawType": "int64",
         "type": "integer"
        },
        {
         "name": "commande_id",
         "rawType": "int64",
         "type": "integer"
        },
        {
         "name": "date_commande",
         "rawType": "object",
         "type": "unknown"
        },
        {
         "name": "montant",
         "rawType": "float64",
         "type": "float"
        },
        {
         "name": "nom",
         "rawType": "object",
         "type": "string"
        },
        {
         "name": "prenom",
         "rawType": "object",
         "type": "string"
        }
       ],
       "conversionMethod": "pd.DataFrame",
       "ref": "6e19faeb-2165-4410-8455-b1dd502ec147",
       "rows": [
        [
         "0",
         "2",
         "2021-01-01",
         "100.0",
         "Doe",
         "John"
        ]
       ],
       "shape": {
        "columns": 5,
        "rows": 1
       }
      },
      "text/html": [
       "<div>\n",
       "<style scoped>\n",
       "    .dataframe tbody tr th:only-of-type {\n",
       "        vertical-align: middle;\n",
       "    }\n",
       "\n",
       "    .dataframe tbody tr th {\n",
       "        vertical-align: top;\n",
       "    }\n",
       "\n",
       "    .dataframe thead th {\n",
       "        text-align: right;\n",
       "    }\n",
       "</style>\n",
       "<table border=\"1\" class=\"dataframe\">\n",
       "  <thead>\n",
       "    <tr style=\"text-align: right;\">\n",
       "      <th></th>\n",
       "      <th>commande_id</th>\n",
       "      <th>date_commande</th>\n",
       "      <th>montant</th>\n",
       "      <th>nom</th>\n",
       "      <th>prenom</th>\n",
       "    </tr>\n",
       "  </thead>\n",
       "  <tbody>\n",
       "    <tr>\n",
       "      <th>0</th>\n",
       "      <td>2</td>\n",
       "      <td>2021-01-01</td>\n",
       "      <td>100.0</td>\n",
       "      <td>Doe</td>\n",
       "      <td>John</td>\n",
       "    </tr>\n",
       "  </tbody>\n",
       "</table>\n",
       "</div>"
      ],
      "text/plain": [
       "   commande_id date_commande  montant  nom prenom\n",
       "0            2    2021-01-01    100.0  Doe   John"
      ]
     },
     "execution_count": 102,
     "metadata": {},
     "output_type": "execute_result"
    }
   ],
   "source": [
    "#4\n",
    "sql = text('''SELECT c.id AS commande_id, c.date_commande, c.montant, cl.nom, cl.prenom\n",
    "FROM commandes c\n",
    "INNER JOIN clients cl ON c.client_id = cl.id\n",
    "WHERE c.id = 2;''')\n",
    "\n",
    "df_resultat = pd.read_sql(sql, engine)\n",
    "df_resultat"
   ]
  },
  {
   "cell_type": "code",
   "execution_count": 103,
   "metadata": {},
   "outputs": [
    {
     "data": {
      "application/vnd.microsoft.datawrangler.viewer.v0+json": {
       "columns": [
        {
         "name": "index",
         "rawType": "int64",
         "type": "integer"
        },
        {
         "name": "commande_id",
         "rawType": "int64",
         "type": "integer"
        },
        {
         "name": "date_commande",
         "rawType": "object",
         "type": "unknown"
        },
        {
         "name": "montant",
         "rawType": "float64",
         "type": "float"
        },
        {
         "name": "nom",
         "rawType": "object",
         "type": "string"
        },
        {
         "name": "prenom",
         "rawType": "object",
         "type": "string"
        },
        {
         "name": "produit",
         "rawType": "object",
         "type": "string"
        },
        {
         "name": "quantite",
         "rawType": "int64",
         "type": "integer"
        }
       ],
       "conversionMethod": "pd.DataFrame",
       "ref": "944dab78-7d47-4fd0-9dbb-b533f3cdbf1f",
       "rows": [
        [
         "0",
         "3",
         "2021-01-02",
         "200.0",
         "Doe",
         "John",
         "Pantalon CHANEL",
         "2"
        ],
        [
         "1",
         "3",
         "2021-01-02",
         "200.0",
         "Doe",
         "John",
         "Chaussettes GUCCI",
         "1"
        ],
        [
         "2",
         "3",
         "2021-01-02",
         "200.0",
         "Doe",
         "John",
         "western",
         "4"
        ],
        [
         "3",
         "3",
         "2021-01-02",
         "200.0",
         "Doe",
         "John",
         "choose",
         "3"
        ],
        [
         "4",
         "3",
         "2021-01-02",
         "200.0",
         "Doe",
         "John",
         "paper",
         "1"
        ],
        [
         "5",
         "3",
         "2021-01-02",
         "200.0",
         "Doe",
         "John",
         "believe",
         "9"
        ],
        [
         "6",
         "3",
         "2021-01-02",
         "200.0",
         "Doe",
         "John",
         "computer",
         "6"
        ],
        [
         "7",
         "3",
         "2021-01-02",
         "200.0",
         "Doe",
         "John",
         "best",
         "3"
        ],
        [
         "8",
         "3",
         "2021-01-02",
         "200.0",
         "Doe",
         "John",
         "T-shirt DIOR",
         "2"
        ],
        [
         "9",
         "3",
         "2021-01-02",
         "200.0",
         "Doe",
         "John",
         "data",
         "4"
        ],
        [
         "10",
         "3",
         "2021-01-02",
         "200.0",
         "Doe",
         "John",
         "brother",
         "4"
        ],
        [
         "11",
         "3",
         "2021-01-02",
         "200.0",
         "Doe",
         "John",
         "water",
         "4"
        ],
        [
         "12",
         "3",
         "2021-01-02",
         "200.0",
         "Doe",
         "John",
         "think",
         "1"
        ]
       ],
       "shape": {
        "columns": 7,
        "rows": 13
       }
      },
      "text/html": [
       "<div>\n",
       "<style scoped>\n",
       "    .dataframe tbody tr th:only-of-type {\n",
       "        vertical-align: middle;\n",
       "    }\n",
       "\n",
       "    .dataframe tbody tr th {\n",
       "        vertical-align: top;\n",
       "    }\n",
       "\n",
       "    .dataframe thead th {\n",
       "        text-align: right;\n",
       "    }\n",
       "</style>\n",
       "<table border=\"1\" class=\"dataframe\">\n",
       "  <thead>\n",
       "    <tr style=\"text-align: right;\">\n",
       "      <th></th>\n",
       "      <th>commande_id</th>\n",
       "      <th>date_commande</th>\n",
       "      <th>montant</th>\n",
       "      <th>nom</th>\n",
       "      <th>prenom</th>\n",
       "      <th>produit</th>\n",
       "      <th>quantite</th>\n",
       "    </tr>\n",
       "  </thead>\n",
       "  <tbody>\n",
       "    <tr>\n",
       "      <th>0</th>\n",
       "      <td>3</td>\n",
       "      <td>2021-01-02</td>\n",
       "      <td>200.0</td>\n",
       "      <td>Doe</td>\n",
       "      <td>John</td>\n",
       "      <td>Pantalon CHANEL</td>\n",
       "      <td>2</td>\n",
       "    </tr>\n",
       "    <tr>\n",
       "      <th>1</th>\n",
       "      <td>3</td>\n",
       "      <td>2021-01-02</td>\n",
       "      <td>200.0</td>\n",
       "      <td>Doe</td>\n",
       "      <td>John</td>\n",
       "      <td>Chaussettes GUCCI</td>\n",
       "      <td>1</td>\n",
       "    </tr>\n",
       "    <tr>\n",
       "      <th>2</th>\n",
       "      <td>3</td>\n",
       "      <td>2021-01-02</td>\n",
       "      <td>200.0</td>\n",
       "      <td>Doe</td>\n",
       "      <td>John</td>\n",
       "      <td>western</td>\n",
       "      <td>4</td>\n",
       "    </tr>\n",
       "    <tr>\n",
       "      <th>3</th>\n",
       "      <td>3</td>\n",
       "      <td>2021-01-02</td>\n",
       "      <td>200.0</td>\n",
       "      <td>Doe</td>\n",
       "      <td>John</td>\n",
       "      <td>choose</td>\n",
       "      <td>3</td>\n",
       "    </tr>\n",
       "    <tr>\n",
       "      <th>4</th>\n",
       "      <td>3</td>\n",
       "      <td>2021-01-02</td>\n",
       "      <td>200.0</td>\n",
       "      <td>Doe</td>\n",
       "      <td>John</td>\n",
       "      <td>paper</td>\n",
       "      <td>1</td>\n",
       "    </tr>\n",
       "    <tr>\n",
       "      <th>5</th>\n",
       "      <td>3</td>\n",
       "      <td>2021-01-02</td>\n",
       "      <td>200.0</td>\n",
       "      <td>Doe</td>\n",
       "      <td>John</td>\n",
       "      <td>believe</td>\n",
       "      <td>9</td>\n",
       "    </tr>\n",
       "    <tr>\n",
       "      <th>6</th>\n",
       "      <td>3</td>\n",
       "      <td>2021-01-02</td>\n",
       "      <td>200.0</td>\n",
       "      <td>Doe</td>\n",
       "      <td>John</td>\n",
       "      <td>computer</td>\n",
       "      <td>6</td>\n",
       "    </tr>\n",
       "    <tr>\n",
       "      <th>7</th>\n",
       "      <td>3</td>\n",
       "      <td>2021-01-02</td>\n",
       "      <td>200.0</td>\n",
       "      <td>Doe</td>\n",
       "      <td>John</td>\n",
       "      <td>best</td>\n",
       "      <td>3</td>\n",
       "    </tr>\n",
       "    <tr>\n",
       "      <th>8</th>\n",
       "      <td>3</td>\n",
       "      <td>2021-01-02</td>\n",
       "      <td>200.0</td>\n",
       "      <td>Doe</td>\n",
       "      <td>John</td>\n",
       "      <td>T-shirt DIOR</td>\n",
       "      <td>2</td>\n",
       "    </tr>\n",
       "    <tr>\n",
       "      <th>9</th>\n",
       "      <td>3</td>\n",
       "      <td>2021-01-02</td>\n",
       "      <td>200.0</td>\n",
       "      <td>Doe</td>\n",
       "      <td>John</td>\n",
       "      <td>data</td>\n",
       "      <td>4</td>\n",
       "    </tr>\n",
       "    <tr>\n",
       "      <th>10</th>\n",
       "      <td>3</td>\n",
       "      <td>2021-01-02</td>\n",
       "      <td>200.0</td>\n",
       "      <td>Doe</td>\n",
       "      <td>John</td>\n",
       "      <td>brother</td>\n",
       "      <td>4</td>\n",
       "    </tr>\n",
       "    <tr>\n",
       "      <th>11</th>\n",
       "      <td>3</td>\n",
       "      <td>2021-01-02</td>\n",
       "      <td>200.0</td>\n",
       "      <td>Doe</td>\n",
       "      <td>John</td>\n",
       "      <td>water</td>\n",
       "      <td>4</td>\n",
       "    </tr>\n",
       "    <tr>\n",
       "      <th>12</th>\n",
       "      <td>3</td>\n",
       "      <td>2021-01-02</td>\n",
       "      <td>200.0</td>\n",
       "      <td>Doe</td>\n",
       "      <td>John</td>\n",
       "      <td>think</td>\n",
       "      <td>1</td>\n",
       "    </tr>\n",
       "  </tbody>\n",
       "</table>\n",
       "</div>"
      ],
      "text/plain": [
       "    commande_id date_commande  montant  nom prenom            produit  \\\n",
       "0             3    2021-01-02    200.0  Doe   John    Pantalon CHANEL   \n",
       "1             3    2021-01-02    200.0  Doe   John  Chaussettes GUCCI   \n",
       "2             3    2021-01-02    200.0  Doe   John            western   \n",
       "3             3    2021-01-02    200.0  Doe   John             choose   \n",
       "4             3    2021-01-02    200.0  Doe   John              paper   \n",
       "5             3    2021-01-02    200.0  Doe   John            believe   \n",
       "6             3    2021-01-02    200.0  Doe   John           computer   \n",
       "7             3    2021-01-02    200.0  Doe   John               best   \n",
       "8             3    2021-01-02    200.0  Doe   John       T-shirt DIOR   \n",
       "9             3    2021-01-02    200.0  Doe   John               data   \n",
       "10            3    2021-01-02    200.0  Doe   John            brother   \n",
       "11            3    2021-01-02    200.0  Doe   John              water   \n",
       "12            3    2021-01-02    200.0  Doe   John              think   \n",
       "\n",
       "    quantite  \n",
       "0          2  \n",
       "1          1  \n",
       "2          4  \n",
       "3          3  \n",
       "4          1  \n",
       "5          9  \n",
       "6          6  \n",
       "7          3  \n",
       "8          2  \n",
       "9          4  \n",
       "10         4  \n",
       "11         4  \n",
       "12         1  "
      ]
     },
     "execution_count": 103,
     "metadata": {},
     "output_type": "execute_result"
    }
   ],
   "source": [
    "#5\n",
    "sql = text('''select c.id as commande_id, c.date_commande, c.montant, cl.nom, cl.prenom, p.nom as produit, cp.quantite\n",
    "from commandes c\n",
    "inner join clients cl on c.client_id = cl.id\n",
    "inner join commandes_produits cp on c.id = cp.commande_id\n",
    "inner join produits p on cp.produit_id = p.id\n",
    "where c.id = 3;''')\n",
    "\n",
    "df_resultat = pd.read_sql(sql, engine)\n",
    "df_resultat"
   ]
  },
  {
   "cell_type": "code",
   "execution_count": 104,
   "metadata": {},
   "outputs": [],
   "source": [
    "#6\n"
   ]
  },
  {
   "cell_type": "code",
   "execution_count": 105,
   "metadata": {},
   "outputs": [],
   "source": [
    "#  close connection\n",
    "engine.dispose()"
   ]
  },
  {
   "cell_type": "code",
   "execution_count": 106,
   "metadata": {},
   "outputs": [
    {
     "data": {
      "application/vnd.microsoft.datawrangler.viewer.v0+json": {
       "columns": [
        {
         "name": "index",
         "rawType": "int64",
         "type": "integer"
        },
        {
         "name": "id",
         "rawType": "int64",
         "type": "integer"
        },
        {
         "name": "first_name",
         "rawType": "object",
         "type": "string"
        },
        {
         "name": "last_name",
         "rawType": "object",
         "type": "string"
        },
        {
         "name": "email",
         "rawType": "object",
         "type": "string"
        },
        {
         "name": "gender",
         "rawType": "object",
         "type": "string"
        },
        {
         "name": "ip_address",
         "rawType": "object",
         "type": "string"
        }
       ],
       "conversionMethod": "pd.DataFrame",
       "ref": "55427424-7539-41f7-8c07-f0865c1df973",
       "rows": [
        [
         "0",
         "1",
         "Roselle",
         "Forkan",
         "rforkan0@theatlantic.com",
         "Female",
         "59.19.66.32"
        ],
        [
         "1",
         "2",
         "Tybi",
         "Kann",
         "tkann1@cocolog-nifty.com",
         "Female",
         "68.57.8.62"
        ],
        [
         "2",
         "3",
         "Nancie",
         "Nardrup",
         "nnardrup2@sphinn.com",
         "Female",
         "255.24.104.11"
        ],
        [
         "3",
         "4",
         "Ramonda",
         "McPhater",
         "rmcphater3@usatoday.com",
         "Female",
         "117.229.18.188"
        ],
        [
         "4",
         "5",
         "Morty",
         "Guerreiro",
         "mguerreiro4@acquirethisname.com",
         "Male",
         "226.189.203.113"
        ],
        [
         "5",
         "6",
         "Barret",
         "Bayston",
         "bbayston5@washingtonpost.com",
         "Male",
         "74.124.97.35"
        ],
        [
         "6",
         "7",
         "Stacey",
         "Axton",
         "saxton6@github.com",
         "Female",
         "106.170.247.8"
        ],
        [
         "7",
         "8",
         "Alta",
         "Turgoose",
         "aturgoose7@discovery.com",
         "Female",
         "26.21.29.130"
        ],
        [
         "8",
         "9",
         "Verene",
         "McBoyle",
         "vmcboyle8@army.mil",
         "Female",
         "187.230.254.157"
        ],
        [
         "9",
         "10",
         "Jennica",
         "Howlett",
         "jhowlett9@globo.com",
         "Female",
         "221.183.40.36"
        ],
        [
         "10",
         "11",
         "Francklin",
         "Bracer",
         "fbracera@state.gov",
         "Male",
         "117.219.56.82"
        ],
        [
         "11",
         "12",
         "Evie",
         "Stife",
         "estifeb@europa.eu",
         "Female",
         "79.112.34.110"
        ],
        [
         "12",
         "13",
         "Giffard",
         "Ellingworth",
         "gellingworthc@gnu.org",
         "Male",
         "125.34.42.196"
        ],
        [
         "13",
         "14",
         "Eric",
         "Skivington",
         "eskivingtond@woothemes.com",
         "Male",
         "48.242.1.15"
        ],
        [
         "14",
         "15",
         "Nari",
         "Philippon",
         "nphilippone@kickstarter.com",
         "Female",
         "118.160.144.38"
        ],
        [
         "15",
         "16",
         "Athena",
         "Bickers",
         "abickersf@amazon.co.jp",
         "Female",
         "43.53.61.161"
        ],
        [
         "16",
         "17",
         "Marena",
         "Ineson",
         "minesong@google.es",
         "Genderqueer",
         "91.102.93.81"
        ],
        [
         "17",
         "18",
         "Davis",
         "Ingliby",
         "dinglibyh@altervista.org",
         "Male",
         "44.32.77.106"
        ],
        [
         "18",
         "19",
         "Elias",
         "Skey",
         "eskeyi@zdnet.com",
         "Male",
         "129.40.51.191"
        ],
        [
         "19",
         "20",
         "Coleman",
         "Parsand",
         "cparsandj@so-net.ne.jp",
         "Male",
         "32.219.46.97"
        ],
        [
         "20",
         "21",
         "Amil",
         "Stacy",
         "astacyk@ucoz.com",
         "Non-binary",
         "186.223.193.247"
        ],
        [
         "21",
         "22",
         "Brantley",
         "Busby",
         "bbusbyl@1688.com",
         "Male",
         "184.170.163.15"
        ],
        [
         "22",
         "23",
         "Germayne",
         "Chyuerton",
         "gchyuertonm@mysql.com",
         "Male",
         "26.84.254.250"
        ],
        [
         "23",
         "24",
         "Stefanie",
         "Nial",
         "snialn@fastcompany.com",
         "Female",
         "96.203.33.214"
        ],
        [
         "24",
         "25",
         "Harrie",
         "Skells",
         "hskellso@yahoo.com",
         "Female",
         "91.11.131.201"
        ],
        [
         "25",
         "26",
         "Evin",
         "Peplaw",
         "epeplawp@phoca.cz",
         "Male",
         "126.190.15.91"
        ],
        [
         "26",
         "27",
         "Freddi",
         "Golt",
         "fgoltq@house.gov",
         "Female",
         "2.223.255.7"
        ],
        [
         "27",
         "28",
         "Chrisse",
         "Mosconi",
         "cmosconir@paypal.com",
         "Male",
         "116.121.39.4"
        ],
        [
         "28",
         "29",
         "Olympie",
         "Riach",
         "oriachs@posterous.com",
         "Genderfluid",
         "54.81.87.169"
        ],
        [
         "29",
         "30",
         "Lexie",
         "Gonnelly",
         "lgonnellyt@ebay.com",
         "Female",
         "141.26.200.81"
        ],
        [
         "30",
         "31",
         "Everett",
         "Rushbury",
         "erushburyu@wp.com",
         "Male",
         "210.42.209.123"
        ],
        [
         "31",
         "32",
         "Cordi",
         "Tweede",
         "ctweedev@blogs.com",
         "Female",
         "196.132.89.224"
        ],
        [
         "32",
         "33",
         "Akim",
         "Keel",
         "akeelw@washingtonpost.com",
         "Non-binary",
         "229.239.143.242"
        ],
        [
         "33",
         "34",
         "Dore",
         "Beal",
         "dbealx@slideshare.net",
         "Female",
         "27.25.184.178"
        ],
        [
         "34",
         "35",
         "Patrica",
         "Zorzenoni",
         "pzorzenoniy@opera.com",
         "Female",
         "249.157.149.131"
        ],
        [
         "35",
         "36",
         "Trudy",
         "Forker",
         "tforkerz@pinterest.com",
         "Female",
         "68.122.188.100"
        ],
        [
         "36",
         "37",
         "Paolina",
         "Brierton",
         "pbrierton10@reuters.com",
         "Female",
         "41.48.168.232"
        ],
        [
         "37",
         "38",
         "Arri",
         "Pavitt",
         "apavitt11@lulu.com",
         "Male",
         "46.79.254.217"
        ],
        [
         "38",
         "39",
         "Victor",
         "Kuschke",
         "vkuschke12@ihg.com",
         "Male",
         "4.70.60.120"
        ],
        [
         "39",
         "40",
         "Marni",
         "Iacavone",
         "miacavone13@ucsd.edu",
         "Female",
         "64.77.137.218"
        ],
        [
         "40",
         "41",
         "Bancroft",
         "Klich",
         "bklich14@cnbc.com",
         "Male",
         "118.64.235.18"
        ],
        [
         "41",
         "42",
         "Elka",
         "Detoc",
         "edetoc15@nba.com",
         "Female",
         "181.107.73.111"
        ],
        [
         "42",
         "43",
         "Hy",
         "Adolphine",
         "hadolphine16@cyberchimps.com",
         "Male",
         "184.213.107.72"
        ],
        [
         "43",
         "44",
         "Idalina",
         "Dottridge",
         "idottridge17@multiply.com",
         "Female",
         "72.46.94.25"
        ],
        [
         "44",
         "45",
         "Gram",
         "Ragbourn",
         "gragbourn18@t.co",
         "Male",
         "68.50.122.57"
        ],
        [
         "45",
         "46",
         "Joline",
         "Toke",
         "jtoke19@imageshack.us",
         "Female",
         "122.20.22.92"
        ],
        [
         "46",
         "47",
         "Daveta",
         "Ughini",
         "dughini1a@pagesperso-orange.fr",
         "Female",
         "22.43.187.244"
        ],
        [
         "47",
         "48",
         "Riannon",
         "Gallyon",
         "rgallyon1b@nsw.gov.au",
         "Female",
         "75.93.175.150"
        ],
        [
         "48",
         "49",
         "Farris",
         "Breawood",
         "fbreawood1c@baidu.com",
         "Male",
         "2.98.97.6"
        ],
        [
         "49",
         "50",
         "Devlen",
         "Kieran",
         "dkieran1d@a8.net",
         "Male",
         "164.102.24.78"
        ]
       ],
       "shape": {
        "columns": 6,
        "rows": 1000
       }
      },
      "text/html": [
       "<div>\n",
       "<style scoped>\n",
       "    .dataframe tbody tr th:only-of-type {\n",
       "        vertical-align: middle;\n",
       "    }\n",
       "\n",
       "    .dataframe tbody tr th {\n",
       "        vertical-align: top;\n",
       "    }\n",
       "\n",
       "    .dataframe thead th {\n",
       "        text-align: right;\n",
       "    }\n",
       "</style>\n",
       "<table border=\"1\" class=\"dataframe\">\n",
       "  <thead>\n",
       "    <tr style=\"text-align: right;\">\n",
       "      <th></th>\n",
       "      <th>id</th>\n",
       "      <th>first_name</th>\n",
       "      <th>last_name</th>\n",
       "      <th>email</th>\n",
       "      <th>gender</th>\n",
       "      <th>ip_address</th>\n",
       "    </tr>\n",
       "  </thead>\n",
       "  <tbody>\n",
       "    <tr>\n",
       "      <th>0</th>\n",
       "      <td>1</td>\n",
       "      <td>Roselle</td>\n",
       "      <td>Forkan</td>\n",
       "      <td>rforkan0@theatlantic.com</td>\n",
       "      <td>Female</td>\n",
       "      <td>59.19.66.32</td>\n",
       "    </tr>\n",
       "    <tr>\n",
       "      <th>1</th>\n",
       "      <td>2</td>\n",
       "      <td>Tybi</td>\n",
       "      <td>Kann</td>\n",
       "      <td>tkann1@cocolog-nifty.com</td>\n",
       "      <td>Female</td>\n",
       "      <td>68.57.8.62</td>\n",
       "    </tr>\n",
       "    <tr>\n",
       "      <th>2</th>\n",
       "      <td>3</td>\n",
       "      <td>Nancie</td>\n",
       "      <td>Nardrup</td>\n",
       "      <td>nnardrup2@sphinn.com</td>\n",
       "      <td>Female</td>\n",
       "      <td>255.24.104.11</td>\n",
       "    </tr>\n",
       "    <tr>\n",
       "      <th>3</th>\n",
       "      <td>4</td>\n",
       "      <td>Ramonda</td>\n",
       "      <td>McPhater</td>\n",
       "      <td>rmcphater3@usatoday.com</td>\n",
       "      <td>Female</td>\n",
       "      <td>117.229.18.188</td>\n",
       "    </tr>\n",
       "    <tr>\n",
       "      <th>4</th>\n",
       "      <td>5</td>\n",
       "      <td>Morty</td>\n",
       "      <td>Guerreiro</td>\n",
       "      <td>mguerreiro4@acquirethisname.com</td>\n",
       "      <td>Male</td>\n",
       "      <td>226.189.203.113</td>\n",
       "    </tr>\n",
       "    <tr>\n",
       "      <th>...</th>\n",
       "      <td>...</td>\n",
       "      <td>...</td>\n",
       "      <td>...</td>\n",
       "      <td>...</td>\n",
       "      <td>...</td>\n",
       "      <td>...</td>\n",
       "    </tr>\n",
       "    <tr>\n",
       "      <th>995</th>\n",
       "      <td>996</td>\n",
       "      <td>Henrieta</td>\n",
       "      <td>Glasner</td>\n",
       "      <td>hglasnerrn@wordpress.com</td>\n",
       "      <td>Female</td>\n",
       "      <td>71.205.235.142</td>\n",
       "    </tr>\n",
       "    <tr>\n",
       "      <th>996</th>\n",
       "      <td>997</td>\n",
       "      <td>Marga</td>\n",
       "      <td>Foxley</td>\n",
       "      <td>mfoxleyro@4shared.com</td>\n",
       "      <td>Female</td>\n",
       "      <td>49.59.161.75</td>\n",
       "    </tr>\n",
       "    <tr>\n",
       "      <th>997</th>\n",
       "      <td>998</td>\n",
       "      <td>Spenser</td>\n",
       "      <td>Sackett</td>\n",
       "      <td>ssackettrp@angelfire.com</td>\n",
       "      <td>Male</td>\n",
       "      <td>59.247.250.192</td>\n",
       "    </tr>\n",
       "    <tr>\n",
       "      <th>998</th>\n",
       "      <td>999</td>\n",
       "      <td>Mallory</td>\n",
       "      <td>Visco</td>\n",
       "      <td>mviscorq@constantcontact.com</td>\n",
       "      <td>Male</td>\n",
       "      <td>43.209.171.238</td>\n",
       "    </tr>\n",
       "    <tr>\n",
       "      <th>999</th>\n",
       "      <td>1000</td>\n",
       "      <td>Massimo</td>\n",
       "      <td>Terram</td>\n",
       "      <td>mterramrr@nba.com</td>\n",
       "      <td>Male</td>\n",
       "      <td>159.37.196.80</td>\n",
       "    </tr>\n",
       "  </tbody>\n",
       "</table>\n",
       "<p>1000 rows × 6 columns</p>\n",
       "</div>"
      ],
      "text/plain": [
       "       id first_name  last_name                            email  gender  \\\n",
       "0       1    Roselle     Forkan         rforkan0@theatlantic.com  Female   \n",
       "1       2       Tybi       Kann         tkann1@cocolog-nifty.com  Female   \n",
       "2       3     Nancie    Nardrup             nnardrup2@sphinn.com  Female   \n",
       "3       4    Ramonda   McPhater          rmcphater3@usatoday.com  Female   \n",
       "4       5      Morty  Guerreiro  mguerreiro4@acquirethisname.com    Male   \n",
       "..    ...        ...        ...                              ...     ...   \n",
       "995   996   Henrieta    Glasner         hglasnerrn@wordpress.com  Female   \n",
       "996   997      Marga     Foxley            mfoxleyro@4shared.com  Female   \n",
       "997   998    Spenser    Sackett         ssackettrp@angelfire.com    Male   \n",
       "998   999    Mallory      Visco     mviscorq@constantcontact.com    Male   \n",
       "999  1000    Massimo     Terram                mterramrr@nba.com    Male   \n",
       "\n",
       "          ip_address  \n",
       "0        59.19.66.32  \n",
       "1         68.57.8.62  \n",
       "2      255.24.104.11  \n",
       "3     117.229.18.188  \n",
       "4    226.189.203.113  \n",
       "..               ...  \n",
       "995   71.205.235.142  \n",
       "996     49.59.161.75  \n",
       "997   59.247.250.192  \n",
       "998   43.209.171.238  \n",
       "999    159.37.196.80  \n",
       "\n",
       "[1000 rows x 6 columns]"
      ]
     },
     "execution_count": 106,
     "metadata": {},
     "output_type": "execute_result"
    }
   ],
   "source": [
    "df = pd.read_csv('MOCK_DATA.csv')\n",
    "df"
   ]
  },
  {
   "cell_type": "code",
   "execution_count": 121,
   "metadata": {},
   "outputs": [
    {
     "data": {
      "application/vnd.microsoft.datawrangler.viewer.v0+json": {
       "columns": [
        {
         "name": "index",
         "rawType": "int64",
         "type": "integer"
        },
        {
         "name": "id",
         "rawType": "int64",
         "type": "integer"
        },
        {
         "name": "prenom",
         "rawType": "object",
         "type": "string"
        },
        {
         "name": "nom",
         "rawType": "object",
         "type": "string"
        },
        {
         "name": "email",
         "rawType": "object",
         "type": "string"
        },
        {
         "name": "gender",
         "rawType": "object",
         "type": "string"
        },
        {
         "name": "ip_address",
         "rawType": "object",
         "type": "string"
        },
        {
         "name": "nom",
         "rawType": "object",
         "type": "string"
        },
        {
         "name": "prenom",
         "rawType": "object",
         "type": "string"
        }
       ],
       "conversionMethod": "pd.DataFrame",
       "ref": "4eb9f48c-f328-41f2-8ff6-5d8846cebf1d",
       "rows": [
        [
         "0",
         "1",
         "Roselle",
         "Forkan",
         "rforkan0@theatlantic.com",
         "Female",
         "59.19.66.32",
         "Roselle",
         "Forkan"
        ],
        [
         "1",
         "2",
         "Tybi",
         "Kann",
         "tkann1@cocolog-nifty.com",
         "Female",
         "68.57.8.62",
         "Tybi",
         "Kann"
        ],
        [
         "2",
         "3",
         "Nancie",
         "Nardrup",
         "nnardrup2@sphinn.com",
         "Female",
         "255.24.104.11",
         "Nancie",
         "Nardrup"
        ],
        [
         "3",
         "4",
         "Ramonda",
         "McPhater",
         "rmcphater3@usatoday.com",
         "Female",
         "117.229.18.188",
         "Ramonda",
         "McPhater"
        ],
        [
         "4",
         "5",
         "Morty",
         "Guerreiro",
         "mguerreiro4@acquirethisname.com",
         "Male",
         "226.189.203.113",
         "Morty",
         "Guerreiro"
        ],
        [
         "5",
         "6",
         "Barret",
         "Bayston",
         "bbayston5@washingtonpost.com",
         "Male",
         "74.124.97.35",
         "Barret",
         "Bayston"
        ],
        [
         "6",
         "7",
         "Stacey",
         "Axton",
         "saxton6@github.com",
         "Female",
         "106.170.247.8",
         "Stacey",
         "Axton"
        ],
        [
         "7",
         "8",
         "Alta",
         "Turgoose",
         "aturgoose7@discovery.com",
         "Female",
         "26.21.29.130",
         "Alta",
         "Turgoose"
        ],
        [
         "8",
         "9",
         "Verene",
         "McBoyle",
         "vmcboyle8@army.mil",
         "Female",
         "187.230.254.157",
         "Verene",
         "McBoyle"
        ],
        [
         "9",
         "10",
         "Jennica",
         "Howlett",
         "jhowlett9@globo.com",
         "Female",
         "221.183.40.36",
         "Jennica",
         "Howlett"
        ],
        [
         "10",
         "11",
         "Francklin",
         "Bracer",
         "fbracera@state.gov",
         "Male",
         "117.219.56.82",
         "Francklin",
         "Bracer"
        ],
        [
         "11",
         "12",
         "Evie",
         "Stife",
         "estifeb@europa.eu",
         "Female",
         "79.112.34.110",
         "Evie",
         "Stife"
        ],
        [
         "12",
         "13",
         "Giffard",
         "Ellingworth",
         "gellingworthc@gnu.org",
         "Male",
         "125.34.42.196",
         "Giffard",
         "Ellingworth"
        ],
        [
         "13",
         "14",
         "Eric",
         "Skivington",
         "eskivingtond@woothemes.com",
         "Male",
         "48.242.1.15",
         "Eric",
         "Skivington"
        ],
        [
         "14",
         "15",
         "Nari",
         "Philippon",
         "nphilippone@kickstarter.com",
         "Female",
         "118.160.144.38",
         "Nari",
         "Philippon"
        ],
        [
         "15",
         "16",
         "Athena",
         "Bickers",
         "abickersf@amazon.co.jp",
         "Female",
         "43.53.61.161",
         "Athena",
         "Bickers"
        ],
        [
         "16",
         "17",
         "Marena",
         "Ineson",
         "minesong@google.es",
         "Genderqueer",
         "91.102.93.81",
         "Marena",
         "Ineson"
        ],
        [
         "17",
         "18",
         "Davis",
         "Ingliby",
         "dinglibyh@altervista.org",
         "Male",
         "44.32.77.106",
         "Davis",
         "Ingliby"
        ],
        [
         "18",
         "19",
         "Elias",
         "Skey",
         "eskeyi@zdnet.com",
         "Male",
         "129.40.51.191",
         "Elias",
         "Skey"
        ],
        [
         "19",
         "20",
         "Coleman",
         "Parsand",
         "cparsandj@so-net.ne.jp",
         "Male",
         "32.219.46.97",
         "Coleman",
         "Parsand"
        ],
        [
         "20",
         "21",
         "Amil",
         "Stacy",
         "astacyk@ucoz.com",
         "Non-binary",
         "186.223.193.247",
         "Amil",
         "Stacy"
        ],
        [
         "21",
         "22",
         "Brantley",
         "Busby",
         "bbusbyl@1688.com",
         "Male",
         "184.170.163.15",
         "Brantley",
         "Busby"
        ],
        [
         "22",
         "23",
         "Germayne",
         "Chyuerton",
         "gchyuertonm@mysql.com",
         "Male",
         "26.84.254.250",
         "Germayne",
         "Chyuerton"
        ],
        [
         "23",
         "24",
         "Stefanie",
         "Nial",
         "snialn@fastcompany.com",
         "Female",
         "96.203.33.214",
         "Stefanie",
         "Nial"
        ],
        [
         "24",
         "25",
         "Harrie",
         "Skells",
         "hskellso@yahoo.com",
         "Female",
         "91.11.131.201",
         "Harrie",
         "Skells"
        ],
        [
         "25",
         "26",
         "Evin",
         "Peplaw",
         "epeplawp@phoca.cz",
         "Male",
         "126.190.15.91",
         "Evin",
         "Peplaw"
        ],
        [
         "26",
         "27",
         "Freddi",
         "Golt",
         "fgoltq@house.gov",
         "Female",
         "2.223.255.7",
         "Freddi",
         "Golt"
        ],
        [
         "27",
         "28",
         "Chrisse",
         "Mosconi",
         "cmosconir@paypal.com",
         "Male",
         "116.121.39.4",
         "Chrisse",
         "Mosconi"
        ],
        [
         "28",
         "29",
         "Olympie",
         "Riach",
         "oriachs@posterous.com",
         "Genderfluid",
         "54.81.87.169",
         "Olympie",
         "Riach"
        ],
        [
         "29",
         "30",
         "Lexie",
         "Gonnelly",
         "lgonnellyt@ebay.com",
         "Female",
         "141.26.200.81",
         "Lexie",
         "Gonnelly"
        ],
        [
         "30",
         "31",
         "Everett",
         "Rushbury",
         "erushburyu@wp.com",
         "Male",
         "210.42.209.123",
         "Everett",
         "Rushbury"
        ],
        [
         "31",
         "32",
         "Cordi",
         "Tweede",
         "ctweedev@blogs.com",
         "Female",
         "196.132.89.224",
         "Cordi",
         "Tweede"
        ],
        [
         "32",
         "33",
         "Akim",
         "Keel",
         "akeelw@washingtonpost.com",
         "Non-binary",
         "229.239.143.242",
         "Akim",
         "Keel"
        ],
        [
         "33",
         "34",
         "Dore",
         "Beal",
         "dbealx@slideshare.net",
         "Female",
         "27.25.184.178",
         "Dore",
         "Beal"
        ],
        [
         "34",
         "35",
         "Patrica",
         "Zorzenoni",
         "pzorzenoniy@opera.com",
         "Female",
         "249.157.149.131",
         "Patrica",
         "Zorzenoni"
        ],
        [
         "35",
         "36",
         "Trudy",
         "Forker",
         "tforkerz@pinterest.com",
         "Female",
         "68.122.188.100",
         "Trudy",
         "Forker"
        ],
        [
         "36",
         "37",
         "Paolina",
         "Brierton",
         "pbrierton10@reuters.com",
         "Female",
         "41.48.168.232",
         "Paolina",
         "Brierton"
        ],
        [
         "37",
         "38",
         "Arri",
         "Pavitt",
         "apavitt11@lulu.com",
         "Male",
         "46.79.254.217",
         "Arri",
         "Pavitt"
        ],
        [
         "38",
         "39",
         "Victor",
         "Kuschke",
         "vkuschke12@ihg.com",
         "Male",
         "4.70.60.120",
         "Victor",
         "Kuschke"
        ],
        [
         "39",
         "40",
         "Marni",
         "Iacavone",
         "miacavone13@ucsd.edu",
         "Female",
         "64.77.137.218",
         "Marni",
         "Iacavone"
        ],
        [
         "40",
         "41",
         "Bancroft",
         "Klich",
         "bklich14@cnbc.com",
         "Male",
         "118.64.235.18",
         "Bancroft",
         "Klich"
        ],
        [
         "41",
         "42",
         "Elka",
         "Detoc",
         "edetoc15@nba.com",
         "Female",
         "181.107.73.111",
         "Elka",
         "Detoc"
        ],
        [
         "42",
         "43",
         "Hy",
         "Adolphine",
         "hadolphine16@cyberchimps.com",
         "Male",
         "184.213.107.72",
         "Hy",
         "Adolphine"
        ],
        [
         "43",
         "44",
         "Idalina",
         "Dottridge",
         "idottridge17@multiply.com",
         "Female",
         "72.46.94.25",
         "Idalina",
         "Dottridge"
        ],
        [
         "44",
         "45",
         "Gram",
         "Ragbourn",
         "gragbourn18@t.co",
         "Male",
         "68.50.122.57",
         "Gram",
         "Ragbourn"
        ],
        [
         "45",
         "46",
         "Joline",
         "Toke",
         "jtoke19@imageshack.us",
         "Female",
         "122.20.22.92",
         "Joline",
         "Toke"
        ],
        [
         "46",
         "47",
         "Daveta",
         "Ughini",
         "dughini1a@pagesperso-orange.fr",
         "Female",
         "22.43.187.244",
         "Daveta",
         "Ughini"
        ],
        [
         "47",
         "48",
         "Riannon",
         "Gallyon",
         "rgallyon1b@nsw.gov.au",
         "Female",
         "75.93.175.150",
         "Riannon",
         "Gallyon"
        ],
        [
         "48",
         "49",
         "Farris",
         "Breawood",
         "fbreawood1c@baidu.com",
         "Male",
         "2.98.97.6",
         "Farris",
         "Breawood"
        ],
        [
         "49",
         "50",
         "Devlen",
         "Kieran",
         "dkieran1d@a8.net",
         "Male",
         "164.102.24.78",
         "Devlen",
         "Kieran"
        ]
       ],
       "shape": {
        "columns": 8,
        "rows": 1000
       }
      },
      "text/html": [
       "<div>\n",
       "<style scoped>\n",
       "    .dataframe tbody tr th:only-of-type {\n",
       "        vertical-align: middle;\n",
       "    }\n",
       "\n",
       "    .dataframe tbody tr th {\n",
       "        vertical-align: top;\n",
       "    }\n",
       "\n",
       "    .dataframe thead th {\n",
       "        text-align: right;\n",
       "    }\n",
       "</style>\n",
       "<table border=\"1\" class=\"dataframe\">\n",
       "  <thead>\n",
       "    <tr style=\"text-align: right;\">\n",
       "      <th></th>\n",
       "      <th>id</th>\n",
       "      <th>prenom</th>\n",
       "      <th>nom</th>\n",
       "      <th>email</th>\n",
       "      <th>gender</th>\n",
       "      <th>ip_address</th>\n",
       "      <th>nom</th>\n",
       "      <th>prenom</th>\n",
       "    </tr>\n",
       "  </thead>\n",
       "  <tbody>\n",
       "    <tr>\n",
       "      <th>0</th>\n",
       "      <td>1</td>\n",
       "      <td>Roselle</td>\n",
       "      <td>Forkan</td>\n",
       "      <td>rforkan0@theatlantic.com</td>\n",
       "      <td>Female</td>\n",
       "      <td>59.19.66.32</td>\n",
       "      <td>Roselle</td>\n",
       "      <td>Forkan</td>\n",
       "    </tr>\n",
       "    <tr>\n",
       "      <th>1</th>\n",
       "      <td>2</td>\n",
       "      <td>Tybi</td>\n",
       "      <td>Kann</td>\n",
       "      <td>tkann1@cocolog-nifty.com</td>\n",
       "      <td>Female</td>\n",
       "      <td>68.57.8.62</td>\n",
       "      <td>Tybi</td>\n",
       "      <td>Kann</td>\n",
       "    </tr>\n",
       "    <tr>\n",
       "      <th>2</th>\n",
       "      <td>3</td>\n",
       "      <td>Nancie</td>\n",
       "      <td>Nardrup</td>\n",
       "      <td>nnardrup2@sphinn.com</td>\n",
       "      <td>Female</td>\n",
       "      <td>255.24.104.11</td>\n",
       "      <td>Nancie</td>\n",
       "      <td>Nardrup</td>\n",
       "    </tr>\n",
       "    <tr>\n",
       "      <th>3</th>\n",
       "      <td>4</td>\n",
       "      <td>Ramonda</td>\n",
       "      <td>McPhater</td>\n",
       "      <td>rmcphater3@usatoday.com</td>\n",
       "      <td>Female</td>\n",
       "      <td>117.229.18.188</td>\n",
       "      <td>Ramonda</td>\n",
       "      <td>McPhater</td>\n",
       "    </tr>\n",
       "    <tr>\n",
       "      <th>4</th>\n",
       "      <td>5</td>\n",
       "      <td>Morty</td>\n",
       "      <td>Guerreiro</td>\n",
       "      <td>mguerreiro4@acquirethisname.com</td>\n",
       "      <td>Male</td>\n",
       "      <td>226.189.203.113</td>\n",
       "      <td>Morty</td>\n",
       "      <td>Guerreiro</td>\n",
       "    </tr>\n",
       "    <tr>\n",
       "      <th>...</th>\n",
       "      <td>...</td>\n",
       "      <td>...</td>\n",
       "      <td>...</td>\n",
       "      <td>...</td>\n",
       "      <td>...</td>\n",
       "      <td>...</td>\n",
       "      <td>...</td>\n",
       "      <td>...</td>\n",
       "    </tr>\n",
       "    <tr>\n",
       "      <th>995</th>\n",
       "      <td>996</td>\n",
       "      <td>Henrieta</td>\n",
       "      <td>Glasner</td>\n",
       "      <td>hglasnerrn@wordpress.com</td>\n",
       "      <td>Female</td>\n",
       "      <td>71.205.235.142</td>\n",
       "      <td>Henrieta</td>\n",
       "      <td>Glasner</td>\n",
       "    </tr>\n",
       "    <tr>\n",
       "      <th>996</th>\n",
       "      <td>997</td>\n",
       "      <td>Marga</td>\n",
       "      <td>Foxley</td>\n",
       "      <td>mfoxleyro@4shared.com</td>\n",
       "      <td>Female</td>\n",
       "      <td>49.59.161.75</td>\n",
       "      <td>Marga</td>\n",
       "      <td>Foxley</td>\n",
       "    </tr>\n",
       "    <tr>\n",
       "      <th>997</th>\n",
       "      <td>998</td>\n",
       "      <td>Spenser</td>\n",
       "      <td>Sackett</td>\n",
       "      <td>ssackettrp@angelfire.com</td>\n",
       "      <td>Male</td>\n",
       "      <td>59.247.250.192</td>\n",
       "      <td>Spenser</td>\n",
       "      <td>Sackett</td>\n",
       "    </tr>\n",
       "    <tr>\n",
       "      <th>998</th>\n",
       "      <td>999</td>\n",
       "      <td>Mallory</td>\n",
       "      <td>Visco</td>\n",
       "      <td>mviscorq@constantcontact.com</td>\n",
       "      <td>Male</td>\n",
       "      <td>43.209.171.238</td>\n",
       "      <td>Mallory</td>\n",
       "      <td>Visco</td>\n",
       "    </tr>\n",
       "    <tr>\n",
       "      <th>999</th>\n",
       "      <td>1000</td>\n",
       "      <td>Massimo</td>\n",
       "      <td>Terram</td>\n",
       "      <td>mterramrr@nba.com</td>\n",
       "      <td>Male</td>\n",
       "      <td>159.37.196.80</td>\n",
       "      <td>Massimo</td>\n",
       "      <td>Terram</td>\n",
       "    </tr>\n",
       "  </tbody>\n",
       "</table>\n",
       "<p>1000 rows × 8 columns</p>\n",
       "</div>"
      ],
      "text/plain": [
       "       id    prenom        nom                            email  gender  \\\n",
       "0       1   Roselle     Forkan         rforkan0@theatlantic.com  Female   \n",
       "1       2      Tybi       Kann         tkann1@cocolog-nifty.com  Female   \n",
       "2       3    Nancie    Nardrup             nnardrup2@sphinn.com  Female   \n",
       "3       4   Ramonda   McPhater          rmcphater3@usatoday.com  Female   \n",
       "4       5     Morty  Guerreiro  mguerreiro4@acquirethisname.com    Male   \n",
       "..    ...       ...        ...                              ...     ...   \n",
       "995   996  Henrieta    Glasner         hglasnerrn@wordpress.com  Female   \n",
       "996   997     Marga     Foxley            mfoxleyro@4shared.com  Female   \n",
       "997   998   Spenser    Sackett         ssackettrp@angelfire.com    Male   \n",
       "998   999   Mallory      Visco     mviscorq@constantcontact.com    Male   \n",
       "999  1000   Massimo     Terram                mterramrr@nba.com    Male   \n",
       "\n",
       "          ip_address       nom     prenom  \n",
       "0        59.19.66.32   Roselle     Forkan  \n",
       "1         68.57.8.62      Tybi       Kann  \n",
       "2      255.24.104.11    Nancie    Nardrup  \n",
       "3     117.229.18.188   Ramonda   McPhater  \n",
       "4    226.189.203.113     Morty  Guerreiro  \n",
       "..               ...       ...        ...  \n",
       "995   71.205.235.142  Henrieta    Glasner  \n",
       "996     49.59.161.75     Marga     Foxley  \n",
       "997   59.247.250.192   Spenser    Sackett  \n",
       "998   43.209.171.238   Mallory      Visco  \n",
       "999    159.37.196.80   Massimo     Terram  \n",
       "\n",
       "[1000 rows x 8 columns]"
      ]
     },
     "execution_count": 121,
     "metadata": {},
     "output_type": "execute_result"
    }
   ],
   "source": [
    "# remplacer nom des colonnes\n",
    "df.rename(columns={'first_name': 'prenom', 'last_name': 'nom'}, inplace=True)\n",
    "df\n"
   ]
  },
  {
   "cell_type": "code",
   "execution_count": 112,
   "metadata": {},
   "outputs": [
    {
     "ename": "ProgrammingError",
     "evalue": "(psycopg2.errors.UndefinedColumn) ERREUR:  la colonne « first_name » de la relation « clients » n'existe pas\nLINE 1: INSERT INTO clients (id, first_name, last_name, email, gende...\n                                 ^\n\n[SQL: INSERT INTO clients (id, first_name, last_name, email, gender, ip_address) VALUES (%(id__0)s, %(first_name__0)s, %(last_name__0)s, %(email__0)s, %(gender__0)s, %(ip_address__0)s), (%(id__1)s, %(first_name__1)s, %(last_name__1)s, %(email__1)s, %(gende ... 109070 characters truncated ... 99)s, %(first_name__999)s, %(last_name__999)s, %(email__999)s, %(gender__999)s, %(ip_address__999)s)]\n[parameters: {'ip_address__0': '59.19.66.32', 'last_name__0': 'Forkan', 'first_name__0': 'Roselle', 'gender__0': 'Female', 'email__0': 'rforkan0@theatlantic.com', 'id__0': 1, 'ip_address__1': '68.57.8.62', 'last_name__1': 'Kann', 'first_name__1': 'Tybi', 'gender__1': 'Female', 'email__1': 'tkann1@cocolog-nifty.com', 'id__1': 2, 'ip_address__2': '255.24.104.11', 'last_name__2': 'Nardrup', 'first_name__2': 'Nancie', 'gender__2': 'Female', 'email__2': 'nnardrup2@sphinn.com', 'id__2': 3, 'ip_address__3': '117.229.18.188', 'last_name__3': 'McPhater', 'first_name__3': 'Ramonda', 'gender__3': 'Female', 'email__3': 'rmcphater3@usatoday.com', 'id__3': 4, 'ip_address__4': '226.189.203.113', 'last_name__4': 'Guerreiro', 'first_name__4': 'Morty', 'gender__4': 'Male', 'email__4': 'mguerreiro4@acquirethisname.com', 'id__4': 5, 'ip_address__5': '74.124.97.35', 'last_name__5': 'Bayston', 'first_name__5': 'Barret', 'gender__5': 'Male', 'email__5': 'bbayston5@washingtonpost.com', 'id__5': 6, 'ip_address__6': '106.170.247.8', 'last_name__6': 'Axton', 'first_name__6': 'Stacey', 'gender__6': 'Female', 'email__6': 'saxton6@github.com', 'id__6': 7, 'ip_address__7': '26.21.29.130', 'last_name__7': 'Turgoose', 'first_name__7': 'Alta', 'gender__7': 'Female', 'email__7': 'aturgoose7@discovery.com', 'id__7': 8, 'ip_address__8': '187.230.254.157', 'last_name__8': 'McBoyle' ... 5900 parameters truncated ... 'email__991': 'aflintofferj@miibeian.gov.cn', 'id__991': 992, 'ip_address__992': '252.230.169.197', 'last_name__992': \"Maggill'Andreis\", 'first_name__992': 'Koo', 'gender__992': 'Female', 'email__992': 'kmaggillandreisrk@homestead.com', 'id__992': 993, 'ip_address__993': '110.192.29.0', 'last_name__993': 'Tallis', 'first_name__993': 'Berni', 'gender__993': 'Bigender', 'email__993': 'btallisrl@wordpress.org', 'id__993': 994, 'ip_address__994': '124.61.116.221', 'last_name__994': 'Eggleson', 'first_name__994': 'Madelyn', 'gender__994': 'Female', 'email__994': 'megglesonrm@jigsy.com', 'id__994': 995, 'ip_address__995': '71.205.235.142', 'last_name__995': 'Glasner', 'first_name__995': 'Henrieta', 'gender__995': 'Female', 'email__995': 'hglasnerrn@wordpress.com', 'id__995': 996, 'ip_address__996': '49.59.161.75', 'last_name__996': 'Foxley', 'first_name__996': 'Marga', 'gender__996': 'Female', 'email__996': 'mfoxleyro@4shared.com', 'id__996': 997, 'ip_address__997': '59.247.250.192', 'last_name__997': 'Sackett', 'first_name__997': 'Spenser', 'gender__997': 'Male', 'email__997': 'ssackettrp@angelfire.com', 'id__997': 998, 'ip_address__998': '43.209.171.238', 'last_name__998': 'Visco', 'first_name__998': 'Mallory', 'gender__998': 'Male', 'email__998': 'mviscorq@constantcontact.com', 'id__998': 999, 'ip_address__999': '159.37.196.80', 'last_name__999': 'Terram', 'first_name__999': 'Massimo', 'gender__999': 'Male', 'email__999': 'mterramrr@nba.com', 'id__999': 1000}]\n(Background on this error at: https://sqlalche.me/e/20/f405)",
     "output_type": "error",
     "traceback": [
      "\u001b[1;31m---------------------------------------------------------------------------\u001b[0m",
      "\u001b[1;31mUndefinedColumn\u001b[0m                           Traceback (most recent call last)",
      "File \u001b[1;32m~\\AppData\\Local\\Packages\\PythonSoftwareFoundation.Python.3.13_qbz5n2kfra8p0\\LocalCache\\local-packages\\Python313\\site-packages\\sqlalchemy\\engine\\base.py:2115\u001b[0m, in \u001b[0;36mConnection._exec_insertmany_context\u001b[1;34m(self, dialect, context)\u001b[0m\n\u001b[0;32m   2114\u001b[0m     \u001b[38;5;28;01melse\u001b[39;00m:\n\u001b[1;32m-> 2115\u001b[0m         \u001b[43mdialect\u001b[49m\u001b[38;5;241;43m.\u001b[39;49m\u001b[43mdo_execute\u001b[49m\u001b[43m(\u001b[49m\n\u001b[0;32m   2116\u001b[0m \u001b[43m            \u001b[49m\u001b[43mcursor\u001b[49m\u001b[43m,\u001b[49m\n\u001b[0;32m   2117\u001b[0m \u001b[43m            \u001b[49m\u001b[43msub_stmt\u001b[49m\u001b[43m,\u001b[49m\n\u001b[0;32m   2118\u001b[0m \u001b[43m            \u001b[49m\u001b[43msub_params\u001b[49m\u001b[43m,\u001b[49m\n\u001b[0;32m   2119\u001b[0m \u001b[43m            \u001b[49m\u001b[43mcontext\u001b[49m\u001b[43m,\u001b[49m\n\u001b[0;32m   2120\u001b[0m \u001b[43m        \u001b[49m\u001b[43m)\u001b[49m\n\u001b[0;32m   2122\u001b[0m \u001b[38;5;28;01mexcept\u001b[39;00m \u001b[38;5;167;01mBaseException\u001b[39;00m \u001b[38;5;28;01mas\u001b[39;00m e:\n",
      "File \u001b[1;32m~\\AppData\\Local\\Packages\\PythonSoftwareFoundation.Python.3.13_qbz5n2kfra8p0\\LocalCache\\local-packages\\Python313\\site-packages\\sqlalchemy\\engine\\default.py:942\u001b[0m, in \u001b[0;36mDefaultDialect.do_execute\u001b[1;34m(self, cursor, statement, parameters, context)\u001b[0m\n\u001b[0;32m    941\u001b[0m \u001b[38;5;28;01mdef\u001b[39;00m \u001b[38;5;21mdo_execute\u001b[39m(\u001b[38;5;28mself\u001b[39m, cursor, statement, parameters, context\u001b[38;5;241m=\u001b[39m\u001b[38;5;28;01mNone\u001b[39;00m):\n\u001b[1;32m--> 942\u001b[0m     \u001b[43mcursor\u001b[49m\u001b[38;5;241;43m.\u001b[39;49m\u001b[43mexecute\u001b[49m\u001b[43m(\u001b[49m\u001b[43mstatement\u001b[49m\u001b[43m,\u001b[49m\u001b[43m \u001b[49m\u001b[43mparameters\u001b[49m\u001b[43m)\u001b[49m\n",
      "\u001b[1;31mUndefinedColumn\u001b[0m: ERREUR:  la colonne « first_name » de la relation « clients » n'existe pas\nLINE 1: INSERT INTO clients (id, first_name, last_name, email, gende...\n                                 ^\n",
      "\nThe above exception was the direct cause of the following exception:\n",
      "\u001b[1;31mProgrammingError\u001b[0m                          Traceback (most recent call last)",
      "Cell \u001b[1;32mIn[112], line 1\u001b[0m\n\u001b[1;32m----> 1\u001b[0m \u001b[43mdf\u001b[49m\u001b[38;5;241;43m.\u001b[39;49m\u001b[43mto_sql\u001b[49m\u001b[43m(\u001b[49m\u001b[38;5;124;43m\"\u001b[39;49m\u001b[38;5;124;43mclients\u001b[39;49m\u001b[38;5;124;43m\"\u001b[39;49m\u001b[43m,\u001b[49m\u001b[43m \u001b[49m\u001b[43mengine\u001b[49m\u001b[43m,\u001b[49m\u001b[43m \u001b[49m\u001b[43mif_exists\u001b[49m\u001b[38;5;241;43m=\u001b[39;49m\u001b[38;5;124;43m\"\u001b[39;49m\u001b[38;5;124;43mappend\u001b[39;49m\u001b[38;5;124;43m\"\u001b[39;49m\u001b[43m,\u001b[49m\u001b[43m \u001b[49m\u001b[43mindex\u001b[49m\u001b[38;5;241;43m=\u001b[39;49m\u001b[38;5;28;43;01mFalse\u001b[39;49;00m\u001b[43m)\u001b[49m\n",
      "File \u001b[1;32m~\\AppData\\Local\\Packages\\PythonSoftwareFoundation.Python.3.13_qbz5n2kfra8p0\\LocalCache\\local-packages\\Python313\\site-packages\\pandas\\util\\_decorators.py:333\u001b[0m, in \u001b[0;36mdeprecate_nonkeyword_arguments.<locals>.decorate.<locals>.wrapper\u001b[1;34m(*args, **kwargs)\u001b[0m\n\u001b[0;32m    327\u001b[0m \u001b[38;5;28;01mif\u001b[39;00m \u001b[38;5;28mlen\u001b[39m(args) \u001b[38;5;241m>\u001b[39m num_allow_args:\n\u001b[0;32m    328\u001b[0m     warnings\u001b[38;5;241m.\u001b[39mwarn(\n\u001b[0;32m    329\u001b[0m         msg\u001b[38;5;241m.\u001b[39mformat(arguments\u001b[38;5;241m=\u001b[39m_format_argument_list(allow_args)),\n\u001b[0;32m    330\u001b[0m         \u001b[38;5;167;01mFutureWarning\u001b[39;00m,\n\u001b[0;32m    331\u001b[0m         stacklevel\u001b[38;5;241m=\u001b[39mfind_stack_level(),\n\u001b[0;32m    332\u001b[0m     )\n\u001b[1;32m--> 333\u001b[0m \u001b[38;5;28;01mreturn\u001b[39;00m \u001b[43mfunc\u001b[49m\u001b[43m(\u001b[49m\u001b[38;5;241;43m*\u001b[39;49m\u001b[43margs\u001b[49m\u001b[43m,\u001b[49m\u001b[43m \u001b[49m\u001b[38;5;241;43m*\u001b[39;49m\u001b[38;5;241;43m*\u001b[39;49m\u001b[43mkwargs\u001b[49m\u001b[43m)\u001b[49m\n",
      "File \u001b[1;32m~\\AppData\\Local\\Packages\\PythonSoftwareFoundation.Python.3.13_qbz5n2kfra8p0\\LocalCache\\local-packages\\Python313\\site-packages\\pandas\\core\\generic.py:3087\u001b[0m, in \u001b[0;36mNDFrame.to_sql\u001b[1;34m(self, name, con, schema, if_exists, index, index_label, chunksize, dtype, method)\u001b[0m\n\u001b[0;32m   2889\u001b[0m \u001b[38;5;250m\u001b[39m\u001b[38;5;124;03m\"\"\"\u001b[39;00m\n\u001b[0;32m   2890\u001b[0m \u001b[38;5;124;03mWrite records stored in a DataFrame to a SQL database.\u001b[39;00m\n\u001b[0;32m   2891\u001b[0m \n\u001b[1;32m   (...)\u001b[0m\n\u001b[0;32m   3083\u001b[0m \u001b[38;5;124;03m[(1,), (None,), (2,)]\u001b[39;00m\n\u001b[0;32m   3084\u001b[0m \u001b[38;5;124;03m\"\"\"\u001b[39;00m  \u001b[38;5;66;03m# noqa: E501\u001b[39;00m\n\u001b[0;32m   3085\u001b[0m \u001b[38;5;28;01mfrom\u001b[39;00m \u001b[38;5;21;01mpandas\u001b[39;00m\u001b[38;5;21;01m.\u001b[39;00m\u001b[38;5;21;01mio\u001b[39;00m \u001b[38;5;28;01mimport\u001b[39;00m sql\n\u001b[1;32m-> 3087\u001b[0m \u001b[38;5;28;01mreturn\u001b[39;00m \u001b[43msql\u001b[49m\u001b[38;5;241;43m.\u001b[39;49m\u001b[43mto_sql\u001b[49m\u001b[43m(\u001b[49m\n\u001b[0;32m   3088\u001b[0m \u001b[43m    \u001b[49m\u001b[38;5;28;43mself\u001b[39;49m\u001b[43m,\u001b[49m\n\u001b[0;32m   3089\u001b[0m \u001b[43m    \u001b[49m\u001b[43mname\u001b[49m\u001b[43m,\u001b[49m\n\u001b[0;32m   3090\u001b[0m \u001b[43m    \u001b[49m\u001b[43mcon\u001b[49m\u001b[43m,\u001b[49m\n\u001b[0;32m   3091\u001b[0m \u001b[43m    \u001b[49m\u001b[43mschema\u001b[49m\u001b[38;5;241;43m=\u001b[39;49m\u001b[43mschema\u001b[49m\u001b[43m,\u001b[49m\n\u001b[0;32m   3092\u001b[0m \u001b[43m    \u001b[49m\u001b[43mif_exists\u001b[49m\u001b[38;5;241;43m=\u001b[39;49m\u001b[43mif_exists\u001b[49m\u001b[43m,\u001b[49m\n\u001b[0;32m   3093\u001b[0m \u001b[43m    \u001b[49m\u001b[43mindex\u001b[49m\u001b[38;5;241;43m=\u001b[39;49m\u001b[43mindex\u001b[49m\u001b[43m,\u001b[49m\n\u001b[0;32m   3094\u001b[0m \u001b[43m    \u001b[49m\u001b[43mindex_label\u001b[49m\u001b[38;5;241;43m=\u001b[39;49m\u001b[43mindex_label\u001b[49m\u001b[43m,\u001b[49m\n\u001b[0;32m   3095\u001b[0m \u001b[43m    \u001b[49m\u001b[43mchunksize\u001b[49m\u001b[38;5;241;43m=\u001b[39;49m\u001b[43mchunksize\u001b[49m\u001b[43m,\u001b[49m\n\u001b[0;32m   3096\u001b[0m \u001b[43m    \u001b[49m\u001b[43mdtype\u001b[49m\u001b[38;5;241;43m=\u001b[39;49m\u001b[43mdtype\u001b[49m\u001b[43m,\u001b[49m\n\u001b[0;32m   3097\u001b[0m \u001b[43m    \u001b[49m\u001b[43mmethod\u001b[49m\u001b[38;5;241;43m=\u001b[39;49m\u001b[43mmethod\u001b[49m\u001b[43m,\u001b[49m\n\u001b[0;32m   3098\u001b[0m \u001b[43m\u001b[49m\u001b[43m)\u001b[49m\n",
      "File \u001b[1;32m~\\AppData\\Local\\Packages\\PythonSoftwareFoundation.Python.3.13_qbz5n2kfra8p0\\LocalCache\\local-packages\\Python313\\site-packages\\pandas\\io\\sql.py:842\u001b[0m, in \u001b[0;36mto_sql\u001b[1;34m(frame, name, con, schema, if_exists, index, index_label, chunksize, dtype, method, engine, **engine_kwargs)\u001b[0m\n\u001b[0;32m    837\u001b[0m     \u001b[38;5;28;01mraise\u001b[39;00m \u001b[38;5;167;01mNotImplementedError\u001b[39;00m(\n\u001b[0;32m    838\u001b[0m         \u001b[38;5;124m\"\u001b[39m\u001b[38;5;124m'\u001b[39m\u001b[38;5;124mframe\u001b[39m\u001b[38;5;124m'\u001b[39m\u001b[38;5;124m argument should be either a Series or a DataFrame\u001b[39m\u001b[38;5;124m\"\u001b[39m\n\u001b[0;32m    839\u001b[0m     )\n\u001b[0;32m    841\u001b[0m \u001b[38;5;28;01mwith\u001b[39;00m pandasSQL_builder(con, schema\u001b[38;5;241m=\u001b[39mschema, need_transaction\u001b[38;5;241m=\u001b[39m\u001b[38;5;28;01mTrue\u001b[39;00m) \u001b[38;5;28;01mas\u001b[39;00m pandas_sql:\n\u001b[1;32m--> 842\u001b[0m     \u001b[38;5;28;01mreturn\u001b[39;00m \u001b[43mpandas_sql\u001b[49m\u001b[38;5;241;43m.\u001b[39;49m\u001b[43mto_sql\u001b[49m\u001b[43m(\u001b[49m\n\u001b[0;32m    843\u001b[0m \u001b[43m        \u001b[49m\u001b[43mframe\u001b[49m\u001b[43m,\u001b[49m\n\u001b[0;32m    844\u001b[0m \u001b[43m        \u001b[49m\u001b[43mname\u001b[49m\u001b[43m,\u001b[49m\n\u001b[0;32m    845\u001b[0m \u001b[43m        \u001b[49m\u001b[43mif_exists\u001b[49m\u001b[38;5;241;43m=\u001b[39;49m\u001b[43mif_exists\u001b[49m\u001b[43m,\u001b[49m\n\u001b[0;32m    846\u001b[0m \u001b[43m        \u001b[49m\u001b[43mindex\u001b[49m\u001b[38;5;241;43m=\u001b[39;49m\u001b[43mindex\u001b[49m\u001b[43m,\u001b[49m\n\u001b[0;32m    847\u001b[0m \u001b[43m        \u001b[49m\u001b[43mindex_label\u001b[49m\u001b[38;5;241;43m=\u001b[39;49m\u001b[43mindex_label\u001b[49m\u001b[43m,\u001b[49m\n\u001b[0;32m    848\u001b[0m \u001b[43m        \u001b[49m\u001b[43mschema\u001b[49m\u001b[38;5;241;43m=\u001b[39;49m\u001b[43mschema\u001b[49m\u001b[43m,\u001b[49m\n\u001b[0;32m    849\u001b[0m \u001b[43m        \u001b[49m\u001b[43mchunksize\u001b[49m\u001b[38;5;241;43m=\u001b[39;49m\u001b[43mchunksize\u001b[49m\u001b[43m,\u001b[49m\n\u001b[0;32m    850\u001b[0m \u001b[43m        \u001b[49m\u001b[43mdtype\u001b[49m\u001b[38;5;241;43m=\u001b[39;49m\u001b[43mdtype\u001b[49m\u001b[43m,\u001b[49m\n\u001b[0;32m    851\u001b[0m \u001b[43m        \u001b[49m\u001b[43mmethod\u001b[49m\u001b[38;5;241;43m=\u001b[39;49m\u001b[43mmethod\u001b[49m\u001b[43m,\u001b[49m\n\u001b[0;32m    852\u001b[0m \u001b[43m        \u001b[49m\u001b[43mengine\u001b[49m\u001b[38;5;241;43m=\u001b[39;49m\u001b[43mengine\u001b[49m\u001b[43m,\u001b[49m\n\u001b[0;32m    853\u001b[0m \u001b[43m        \u001b[49m\u001b[38;5;241;43m*\u001b[39;49m\u001b[38;5;241;43m*\u001b[39;49m\u001b[43mengine_kwargs\u001b[49m\u001b[43m,\u001b[49m\n\u001b[0;32m    854\u001b[0m \u001b[43m    \u001b[49m\u001b[43m)\u001b[49m\n",
      "File \u001b[1;32m~\\AppData\\Local\\Packages\\PythonSoftwareFoundation.Python.3.13_qbz5n2kfra8p0\\LocalCache\\local-packages\\Python313\\site-packages\\pandas\\io\\sql.py:2018\u001b[0m, in \u001b[0;36mSQLDatabase.to_sql\u001b[1;34m(self, frame, name, if_exists, index, index_label, schema, chunksize, dtype, method, engine, **engine_kwargs)\u001b[0m\n\u001b[0;32m   2006\u001b[0m sql_engine \u001b[38;5;241m=\u001b[39m get_engine(engine)\n\u001b[0;32m   2008\u001b[0m table \u001b[38;5;241m=\u001b[39m \u001b[38;5;28mself\u001b[39m\u001b[38;5;241m.\u001b[39mprep_table(\n\u001b[0;32m   2009\u001b[0m     frame\u001b[38;5;241m=\u001b[39mframe,\n\u001b[0;32m   2010\u001b[0m     name\u001b[38;5;241m=\u001b[39mname,\n\u001b[1;32m   (...)\u001b[0m\n\u001b[0;32m   2015\u001b[0m     dtype\u001b[38;5;241m=\u001b[39mdtype,\n\u001b[0;32m   2016\u001b[0m )\n\u001b[1;32m-> 2018\u001b[0m total_inserted \u001b[38;5;241m=\u001b[39m \u001b[43msql_engine\u001b[49m\u001b[38;5;241;43m.\u001b[39;49m\u001b[43minsert_records\u001b[49m\u001b[43m(\u001b[49m\n\u001b[0;32m   2019\u001b[0m \u001b[43m    \u001b[49m\u001b[43mtable\u001b[49m\u001b[38;5;241;43m=\u001b[39;49m\u001b[43mtable\u001b[49m\u001b[43m,\u001b[49m\n\u001b[0;32m   2020\u001b[0m \u001b[43m    \u001b[49m\u001b[43mcon\u001b[49m\u001b[38;5;241;43m=\u001b[39;49m\u001b[38;5;28;43mself\u001b[39;49m\u001b[38;5;241;43m.\u001b[39;49m\u001b[43mcon\u001b[49m\u001b[43m,\u001b[49m\n\u001b[0;32m   2021\u001b[0m \u001b[43m    \u001b[49m\u001b[43mframe\u001b[49m\u001b[38;5;241;43m=\u001b[39;49m\u001b[43mframe\u001b[49m\u001b[43m,\u001b[49m\n\u001b[0;32m   2022\u001b[0m \u001b[43m    \u001b[49m\u001b[43mname\u001b[49m\u001b[38;5;241;43m=\u001b[39;49m\u001b[43mname\u001b[49m\u001b[43m,\u001b[49m\n\u001b[0;32m   2023\u001b[0m \u001b[43m    \u001b[49m\u001b[43mindex\u001b[49m\u001b[38;5;241;43m=\u001b[39;49m\u001b[43mindex\u001b[49m\u001b[43m,\u001b[49m\n\u001b[0;32m   2024\u001b[0m \u001b[43m    \u001b[49m\u001b[43mschema\u001b[49m\u001b[38;5;241;43m=\u001b[39;49m\u001b[43mschema\u001b[49m\u001b[43m,\u001b[49m\n\u001b[0;32m   2025\u001b[0m \u001b[43m    \u001b[49m\u001b[43mchunksize\u001b[49m\u001b[38;5;241;43m=\u001b[39;49m\u001b[43mchunksize\u001b[49m\u001b[43m,\u001b[49m\n\u001b[0;32m   2026\u001b[0m \u001b[43m    \u001b[49m\u001b[43mmethod\u001b[49m\u001b[38;5;241;43m=\u001b[39;49m\u001b[43mmethod\u001b[49m\u001b[43m,\u001b[49m\n\u001b[0;32m   2027\u001b[0m \u001b[43m    \u001b[49m\u001b[38;5;241;43m*\u001b[39;49m\u001b[38;5;241;43m*\u001b[39;49m\u001b[43mengine_kwargs\u001b[49m\u001b[43m,\u001b[49m\n\u001b[0;32m   2028\u001b[0m \u001b[43m\u001b[49m\u001b[43m)\u001b[49m\n\u001b[0;32m   2030\u001b[0m \u001b[38;5;28mself\u001b[39m\u001b[38;5;241m.\u001b[39mcheck_case_sensitive(name\u001b[38;5;241m=\u001b[39mname, schema\u001b[38;5;241m=\u001b[39mschema)\n\u001b[0;32m   2031\u001b[0m \u001b[38;5;28;01mreturn\u001b[39;00m total_inserted\n",
      "File \u001b[1;32m~\\AppData\\Local\\Packages\\PythonSoftwareFoundation.Python.3.13_qbz5n2kfra8p0\\LocalCache\\local-packages\\Python313\\site-packages\\pandas\\io\\sql.py:1567\u001b[0m, in \u001b[0;36mSQLAlchemyEngine.insert_records\u001b[1;34m(self, table, con, frame, name, index, schema, chunksize, method, **engine_kwargs)\u001b[0m\n\u001b[0;32m   1565\u001b[0m \u001b[38;5;28;01mif\u001b[39;00m re\u001b[38;5;241m.\u001b[39msearch(msg, err_text):\n\u001b[0;32m   1566\u001b[0m     \u001b[38;5;28;01mraise\u001b[39;00m \u001b[38;5;167;01mValueError\u001b[39;00m(\u001b[38;5;124m\"\u001b[39m\u001b[38;5;124minf cannot be used with MySQL\u001b[39m\u001b[38;5;124m\"\u001b[39m) \u001b[38;5;28;01mfrom\u001b[39;00m \u001b[38;5;21;01merr\u001b[39;00m\n\u001b[1;32m-> 1567\u001b[0m \u001b[38;5;28;01mraise\u001b[39;00m err\n",
      "File \u001b[1;32m~\\AppData\\Local\\Packages\\PythonSoftwareFoundation.Python.3.13_qbz5n2kfra8p0\\LocalCache\\local-packages\\Python313\\site-packages\\pandas\\io\\sql.py:1558\u001b[0m, in \u001b[0;36mSQLAlchemyEngine.insert_records\u001b[1;34m(self, table, con, frame, name, index, schema, chunksize, method, **engine_kwargs)\u001b[0m\n\u001b[0;32m   1555\u001b[0m \u001b[38;5;28;01mfrom\u001b[39;00m \u001b[38;5;21;01msqlalchemy\u001b[39;00m \u001b[38;5;28;01mimport\u001b[39;00m exc\n\u001b[0;32m   1557\u001b[0m \u001b[38;5;28;01mtry\u001b[39;00m:\n\u001b[1;32m-> 1558\u001b[0m     \u001b[38;5;28;01mreturn\u001b[39;00m \u001b[43mtable\u001b[49m\u001b[38;5;241;43m.\u001b[39;49m\u001b[43minsert\u001b[49m\u001b[43m(\u001b[49m\u001b[43mchunksize\u001b[49m\u001b[38;5;241;43m=\u001b[39;49m\u001b[43mchunksize\u001b[49m\u001b[43m,\u001b[49m\u001b[43m \u001b[49m\u001b[43mmethod\u001b[49m\u001b[38;5;241;43m=\u001b[39;49m\u001b[43mmethod\u001b[49m\u001b[43m)\u001b[49m\n\u001b[0;32m   1559\u001b[0m \u001b[38;5;28;01mexcept\u001b[39;00m exc\u001b[38;5;241m.\u001b[39mStatementError \u001b[38;5;28;01mas\u001b[39;00m err:\n\u001b[0;32m   1560\u001b[0m     \u001b[38;5;66;03m# GH34431\u001b[39;00m\n\u001b[0;32m   1561\u001b[0m     \u001b[38;5;66;03m# https://stackoverflow.com/a/67358288/6067848\u001b[39;00m\n\u001b[0;32m   1562\u001b[0m     msg \u001b[38;5;241m=\u001b[39m \u001b[38;5;124mr\u001b[39m\u001b[38;5;124m\"\"\"\u001b[39m\u001b[38;5;124m(\u001b[39m\u001b[38;5;124m\\\u001b[39m\u001b[38;5;124m(1054, \u001b[39m\u001b[38;5;124m\"\u001b[39m\u001b[38;5;124mUnknown column \u001b[39m\u001b[38;5;124m'\u001b[39m\u001b[38;5;124minf(e0)?\u001b[39m\u001b[38;5;124m'\u001b[39m\u001b[38;5;124m in \u001b[39m\u001b[38;5;124m'\u001b[39m\u001b[38;5;124mfield list\u001b[39m\u001b[38;5;124m'\u001b[39m\u001b[38;5;124m\"\u001b[39m\u001b[38;5;124m\\\u001b[39m\u001b[38;5;124m))(?#\u001b[39m\n\u001b[0;32m   1563\u001b[0m \u001b[38;5;124m    )|inf can not be used with MySQL\u001b[39m\u001b[38;5;124m\"\"\"\u001b[39m\n",
      "File \u001b[1;32m~\\AppData\\Local\\Packages\\PythonSoftwareFoundation.Python.3.13_qbz5n2kfra8p0\\LocalCache\\local-packages\\Python313\\site-packages\\pandas\\io\\sql.py:1119\u001b[0m, in \u001b[0;36mSQLTable.insert\u001b[1;34m(self, chunksize, method)\u001b[0m\n\u001b[0;32m   1116\u001b[0m     \u001b[38;5;28;01mbreak\u001b[39;00m\n\u001b[0;32m   1118\u001b[0m chunk_iter \u001b[38;5;241m=\u001b[39m \u001b[38;5;28mzip\u001b[39m(\u001b[38;5;241m*\u001b[39m(arr[start_i:end_i] \u001b[38;5;28;01mfor\u001b[39;00m arr \u001b[38;5;129;01min\u001b[39;00m data_list))\n\u001b[1;32m-> 1119\u001b[0m num_inserted \u001b[38;5;241m=\u001b[39m \u001b[43mexec_insert\u001b[49m\u001b[43m(\u001b[49m\u001b[43mconn\u001b[49m\u001b[43m,\u001b[49m\u001b[43m \u001b[49m\u001b[43mkeys\u001b[49m\u001b[43m,\u001b[49m\u001b[43m \u001b[49m\u001b[43mchunk_iter\u001b[49m\u001b[43m)\u001b[49m\n\u001b[0;32m   1120\u001b[0m \u001b[38;5;66;03m# GH 46891\u001b[39;00m\n\u001b[0;32m   1121\u001b[0m \u001b[38;5;28;01mif\u001b[39;00m num_inserted \u001b[38;5;129;01mis\u001b[39;00m \u001b[38;5;129;01mnot\u001b[39;00m \u001b[38;5;28;01mNone\u001b[39;00m:\n",
      "File \u001b[1;32m~\\AppData\\Local\\Packages\\PythonSoftwareFoundation.Python.3.13_qbz5n2kfra8p0\\LocalCache\\local-packages\\Python313\\site-packages\\pandas\\io\\sql.py:1010\u001b[0m, in \u001b[0;36mSQLTable._execute_insert\u001b[1;34m(self, conn, keys, data_iter)\u001b[0m\n\u001b[0;32m    998\u001b[0m \u001b[38;5;250m\u001b[39m\u001b[38;5;124;03m\"\"\"\u001b[39;00m\n\u001b[0;32m    999\u001b[0m \u001b[38;5;124;03mExecute SQL statement inserting data\u001b[39;00m\n\u001b[0;32m   1000\u001b[0m \n\u001b[1;32m   (...)\u001b[0m\n\u001b[0;32m   1007\u001b[0m \u001b[38;5;124;03m   Each item contains a list of values to be inserted\u001b[39;00m\n\u001b[0;32m   1008\u001b[0m \u001b[38;5;124;03m\"\"\"\u001b[39;00m\n\u001b[0;32m   1009\u001b[0m data \u001b[38;5;241m=\u001b[39m [\u001b[38;5;28mdict\u001b[39m(\u001b[38;5;28mzip\u001b[39m(keys, row)) \u001b[38;5;28;01mfor\u001b[39;00m row \u001b[38;5;129;01min\u001b[39;00m data_iter]\n\u001b[1;32m-> 1010\u001b[0m result \u001b[38;5;241m=\u001b[39m \u001b[43mconn\u001b[49m\u001b[38;5;241;43m.\u001b[39;49m\u001b[43mexecute\u001b[49m\u001b[43m(\u001b[49m\u001b[38;5;28;43mself\u001b[39;49m\u001b[38;5;241;43m.\u001b[39;49m\u001b[43mtable\u001b[49m\u001b[38;5;241;43m.\u001b[39;49m\u001b[43minsert\u001b[49m\u001b[43m(\u001b[49m\u001b[43m)\u001b[49m\u001b[43m,\u001b[49m\u001b[43m \u001b[49m\u001b[43mdata\u001b[49m\u001b[43m)\u001b[49m\n\u001b[0;32m   1011\u001b[0m \u001b[38;5;28;01mreturn\u001b[39;00m result\u001b[38;5;241m.\u001b[39mrowcount\n",
      "File \u001b[1;32m~\\AppData\\Local\\Packages\\PythonSoftwareFoundation.Python.3.13_qbz5n2kfra8p0\\LocalCache\\local-packages\\Python313\\site-packages\\sqlalchemy\\engine\\base.py:1416\u001b[0m, in \u001b[0;36mConnection.execute\u001b[1;34m(self, statement, parameters, execution_options)\u001b[0m\n\u001b[0;32m   1414\u001b[0m     \u001b[38;5;28;01mraise\u001b[39;00m exc\u001b[38;5;241m.\u001b[39mObjectNotExecutableError(statement) \u001b[38;5;28;01mfrom\u001b[39;00m \u001b[38;5;21;01merr\u001b[39;00m\n\u001b[0;32m   1415\u001b[0m \u001b[38;5;28;01melse\u001b[39;00m:\n\u001b[1;32m-> 1416\u001b[0m     \u001b[38;5;28;01mreturn\u001b[39;00m \u001b[43mmeth\u001b[49m\u001b[43m(\u001b[49m\n\u001b[0;32m   1417\u001b[0m \u001b[43m        \u001b[49m\u001b[38;5;28;43mself\u001b[39;49m\u001b[43m,\u001b[49m\n\u001b[0;32m   1418\u001b[0m \u001b[43m        \u001b[49m\u001b[43mdistilled_parameters\u001b[49m\u001b[43m,\u001b[49m\n\u001b[0;32m   1419\u001b[0m \u001b[43m        \u001b[49m\u001b[43mexecution_options\u001b[49m\u001b[43m \u001b[49m\u001b[38;5;129;43;01mor\u001b[39;49;00m\u001b[43m \u001b[49m\u001b[43mNO_OPTIONS\u001b[49m\u001b[43m,\u001b[49m\n\u001b[0;32m   1420\u001b[0m \u001b[43m    \u001b[49m\u001b[43m)\u001b[49m\n",
      "File \u001b[1;32m~\\AppData\\Local\\Packages\\PythonSoftwareFoundation.Python.3.13_qbz5n2kfra8p0\\LocalCache\\local-packages\\Python313\\site-packages\\sqlalchemy\\sql\\elements.py:516\u001b[0m, in \u001b[0;36mClauseElement._execute_on_connection\u001b[1;34m(self, connection, distilled_params, execution_options)\u001b[0m\n\u001b[0;32m    514\u001b[0m     \u001b[38;5;28;01mif\u001b[39;00m TYPE_CHECKING:\n\u001b[0;32m    515\u001b[0m         \u001b[38;5;28;01massert\u001b[39;00m \u001b[38;5;28misinstance\u001b[39m(\u001b[38;5;28mself\u001b[39m, Executable)\n\u001b[1;32m--> 516\u001b[0m     \u001b[38;5;28;01mreturn\u001b[39;00m \u001b[43mconnection\u001b[49m\u001b[38;5;241;43m.\u001b[39;49m\u001b[43m_execute_clauseelement\u001b[49m\u001b[43m(\u001b[49m\n\u001b[0;32m    517\u001b[0m \u001b[43m        \u001b[49m\u001b[38;5;28;43mself\u001b[39;49m\u001b[43m,\u001b[49m\u001b[43m \u001b[49m\u001b[43mdistilled_params\u001b[49m\u001b[43m,\u001b[49m\u001b[43m \u001b[49m\u001b[43mexecution_options\u001b[49m\n\u001b[0;32m    518\u001b[0m \u001b[43m    \u001b[49m\u001b[43m)\u001b[49m\n\u001b[0;32m    519\u001b[0m \u001b[38;5;28;01melse\u001b[39;00m:\n\u001b[0;32m    520\u001b[0m     \u001b[38;5;28;01mraise\u001b[39;00m exc\u001b[38;5;241m.\u001b[39mObjectNotExecutableError(\u001b[38;5;28mself\u001b[39m)\n",
      "File \u001b[1;32m~\\AppData\\Local\\Packages\\PythonSoftwareFoundation.Python.3.13_qbz5n2kfra8p0\\LocalCache\\local-packages\\Python313\\site-packages\\sqlalchemy\\engine\\base.py:1638\u001b[0m, in \u001b[0;36mConnection._execute_clauseelement\u001b[1;34m(self, elem, distilled_parameters, execution_options)\u001b[0m\n\u001b[0;32m   1626\u001b[0m compiled_cache: Optional[CompiledCacheType] \u001b[38;5;241m=\u001b[39m execution_options\u001b[38;5;241m.\u001b[39mget(\n\u001b[0;32m   1627\u001b[0m     \u001b[38;5;124m\"\u001b[39m\u001b[38;5;124mcompiled_cache\u001b[39m\u001b[38;5;124m\"\u001b[39m, \u001b[38;5;28mself\u001b[39m\u001b[38;5;241m.\u001b[39mengine\u001b[38;5;241m.\u001b[39m_compiled_cache\n\u001b[0;32m   1628\u001b[0m )\n\u001b[0;32m   1630\u001b[0m compiled_sql, extracted_params, cache_hit \u001b[38;5;241m=\u001b[39m elem\u001b[38;5;241m.\u001b[39m_compile_w_cache(\n\u001b[0;32m   1631\u001b[0m     dialect\u001b[38;5;241m=\u001b[39mdialect,\n\u001b[0;32m   1632\u001b[0m     compiled_cache\u001b[38;5;241m=\u001b[39mcompiled_cache,\n\u001b[1;32m   (...)\u001b[0m\n\u001b[0;32m   1636\u001b[0m     linting\u001b[38;5;241m=\u001b[39m\u001b[38;5;28mself\u001b[39m\u001b[38;5;241m.\u001b[39mdialect\u001b[38;5;241m.\u001b[39mcompiler_linting \u001b[38;5;241m|\u001b[39m compiler\u001b[38;5;241m.\u001b[39mWARN_LINTING,\n\u001b[0;32m   1637\u001b[0m )\n\u001b[1;32m-> 1638\u001b[0m ret \u001b[38;5;241m=\u001b[39m \u001b[38;5;28;43mself\u001b[39;49m\u001b[38;5;241;43m.\u001b[39;49m\u001b[43m_execute_context\u001b[49m\u001b[43m(\u001b[49m\n\u001b[0;32m   1639\u001b[0m \u001b[43m    \u001b[49m\u001b[43mdialect\u001b[49m\u001b[43m,\u001b[49m\n\u001b[0;32m   1640\u001b[0m \u001b[43m    \u001b[49m\u001b[43mdialect\u001b[49m\u001b[38;5;241;43m.\u001b[39;49m\u001b[43mexecution_ctx_cls\u001b[49m\u001b[38;5;241;43m.\u001b[39;49m\u001b[43m_init_compiled\u001b[49m\u001b[43m,\u001b[49m\n\u001b[0;32m   1641\u001b[0m \u001b[43m    \u001b[49m\u001b[43mcompiled_sql\u001b[49m\u001b[43m,\u001b[49m\n\u001b[0;32m   1642\u001b[0m \u001b[43m    \u001b[49m\u001b[43mdistilled_parameters\u001b[49m\u001b[43m,\u001b[49m\n\u001b[0;32m   1643\u001b[0m \u001b[43m    \u001b[49m\u001b[43mexecution_options\u001b[49m\u001b[43m,\u001b[49m\n\u001b[0;32m   1644\u001b[0m \u001b[43m    \u001b[49m\u001b[43mcompiled_sql\u001b[49m\u001b[43m,\u001b[49m\n\u001b[0;32m   1645\u001b[0m \u001b[43m    \u001b[49m\u001b[43mdistilled_parameters\u001b[49m\u001b[43m,\u001b[49m\n\u001b[0;32m   1646\u001b[0m \u001b[43m    \u001b[49m\u001b[43melem\u001b[49m\u001b[43m,\u001b[49m\n\u001b[0;32m   1647\u001b[0m \u001b[43m    \u001b[49m\u001b[43mextracted_params\u001b[49m\u001b[43m,\u001b[49m\n\u001b[0;32m   1648\u001b[0m \u001b[43m    \u001b[49m\u001b[43mcache_hit\u001b[49m\u001b[38;5;241;43m=\u001b[39;49m\u001b[43mcache_hit\u001b[49m\u001b[43m,\u001b[49m\n\u001b[0;32m   1649\u001b[0m \u001b[43m\u001b[49m\u001b[43m)\u001b[49m\n\u001b[0;32m   1650\u001b[0m \u001b[38;5;28;01mif\u001b[39;00m has_events:\n\u001b[0;32m   1651\u001b[0m     \u001b[38;5;28mself\u001b[39m\u001b[38;5;241m.\u001b[39mdispatch\u001b[38;5;241m.\u001b[39mafter_execute(\n\u001b[0;32m   1652\u001b[0m         \u001b[38;5;28mself\u001b[39m,\n\u001b[0;32m   1653\u001b[0m         elem,\n\u001b[1;32m   (...)\u001b[0m\n\u001b[0;32m   1657\u001b[0m         ret,\n\u001b[0;32m   1658\u001b[0m     )\n",
      "File \u001b[1;32m~\\AppData\\Local\\Packages\\PythonSoftwareFoundation.Python.3.13_qbz5n2kfra8p0\\LocalCache\\local-packages\\Python313\\site-packages\\sqlalchemy\\engine\\base.py:1841\u001b[0m, in \u001b[0;36mConnection._execute_context\u001b[1;34m(self, dialect, constructor, statement, parameters, execution_options, *args, **kw)\u001b[0m\n\u001b[0;32m   1838\u001b[0m context\u001b[38;5;241m.\u001b[39mpre_exec()\n\u001b[0;32m   1840\u001b[0m \u001b[38;5;28;01mif\u001b[39;00m context\u001b[38;5;241m.\u001b[39mexecute_style \u001b[38;5;129;01mis\u001b[39;00m ExecuteStyle\u001b[38;5;241m.\u001b[39mINSERTMANYVALUES:\n\u001b[1;32m-> 1841\u001b[0m     \u001b[38;5;28;01mreturn\u001b[39;00m \u001b[38;5;28;43mself\u001b[39;49m\u001b[38;5;241;43m.\u001b[39;49m\u001b[43m_exec_insertmany_context\u001b[49m\u001b[43m(\u001b[49m\u001b[43mdialect\u001b[49m\u001b[43m,\u001b[49m\u001b[43m \u001b[49m\u001b[43mcontext\u001b[49m\u001b[43m)\u001b[49m\n\u001b[0;32m   1842\u001b[0m \u001b[38;5;28;01melse\u001b[39;00m:\n\u001b[0;32m   1843\u001b[0m     \u001b[38;5;28;01mreturn\u001b[39;00m \u001b[38;5;28mself\u001b[39m\u001b[38;5;241m.\u001b[39m_exec_single_context(\n\u001b[0;32m   1844\u001b[0m         dialect, context, statement, parameters\n\u001b[0;32m   1845\u001b[0m     )\n",
      "File \u001b[1;32m~\\AppData\\Local\\Packages\\PythonSoftwareFoundation.Python.3.13_qbz5n2kfra8p0\\LocalCache\\local-packages\\Python313\\site-packages\\sqlalchemy\\engine\\base.py:2123\u001b[0m, in \u001b[0;36mConnection._exec_insertmany_context\u001b[1;34m(self, dialect, context)\u001b[0m\n\u001b[0;32m   2115\u001b[0m         dialect\u001b[38;5;241m.\u001b[39mdo_execute(\n\u001b[0;32m   2116\u001b[0m             cursor,\n\u001b[0;32m   2117\u001b[0m             sub_stmt,\n\u001b[0;32m   2118\u001b[0m             sub_params,\n\u001b[0;32m   2119\u001b[0m             context,\n\u001b[0;32m   2120\u001b[0m         )\n\u001b[0;32m   2122\u001b[0m \u001b[38;5;28;01mexcept\u001b[39;00m \u001b[38;5;167;01mBaseException\u001b[39;00m \u001b[38;5;28;01mas\u001b[39;00m e:\n\u001b[1;32m-> 2123\u001b[0m     \u001b[38;5;28;43mself\u001b[39;49m\u001b[38;5;241;43m.\u001b[39;49m\u001b[43m_handle_dbapi_exception\u001b[49m\u001b[43m(\u001b[49m\n\u001b[0;32m   2124\u001b[0m \u001b[43m        \u001b[49m\u001b[43me\u001b[49m\u001b[43m,\u001b[49m\n\u001b[0;32m   2125\u001b[0m \u001b[43m        \u001b[49m\u001b[43msql_util\u001b[49m\u001b[38;5;241;43m.\u001b[39;49m\u001b[43m_long_statement\u001b[49m\u001b[43m(\u001b[49m\u001b[43msub_stmt\u001b[49m\u001b[43m)\u001b[49m\u001b[43m,\u001b[49m\n\u001b[0;32m   2126\u001b[0m \u001b[43m        \u001b[49m\u001b[43msub_params\u001b[49m\u001b[43m,\u001b[49m\n\u001b[0;32m   2127\u001b[0m \u001b[43m        \u001b[49m\u001b[43mcursor\u001b[49m\u001b[43m,\u001b[49m\n\u001b[0;32m   2128\u001b[0m \u001b[43m        \u001b[49m\u001b[43mcontext\u001b[49m\u001b[43m,\u001b[49m\n\u001b[0;32m   2129\u001b[0m \u001b[43m        \u001b[49m\u001b[43mis_sub_exec\u001b[49m\u001b[38;5;241;43m=\u001b[39;49m\u001b[38;5;28;43;01mTrue\u001b[39;49;00m\u001b[43m,\u001b[49m\n\u001b[0;32m   2130\u001b[0m \u001b[43m    \u001b[49m\u001b[43m)\u001b[49m\n\u001b[0;32m   2132\u001b[0m \u001b[38;5;28;01mif\u001b[39;00m engine_events:\n\u001b[0;32m   2133\u001b[0m     \u001b[38;5;28mself\u001b[39m\u001b[38;5;241m.\u001b[39mdispatch\u001b[38;5;241m.\u001b[39mafter_cursor_execute(\n\u001b[0;32m   2134\u001b[0m         \u001b[38;5;28mself\u001b[39m,\n\u001b[0;32m   2135\u001b[0m         cursor,\n\u001b[1;32m   (...)\u001b[0m\n\u001b[0;32m   2139\u001b[0m         context\u001b[38;5;241m.\u001b[39mexecutemany,\n\u001b[0;32m   2140\u001b[0m     )\n",
      "File \u001b[1;32m~\\AppData\\Local\\Packages\\PythonSoftwareFoundation.Python.3.13_qbz5n2kfra8p0\\LocalCache\\local-packages\\Python313\\site-packages\\sqlalchemy\\engine\\base.py:2352\u001b[0m, in \u001b[0;36mConnection._handle_dbapi_exception\u001b[1;34m(self, e, statement, parameters, cursor, context, is_sub_exec)\u001b[0m\n\u001b[0;32m   2350\u001b[0m \u001b[38;5;28;01melif\u001b[39;00m should_wrap:\n\u001b[0;32m   2351\u001b[0m     \u001b[38;5;28;01massert\u001b[39;00m sqlalchemy_exception \u001b[38;5;129;01mis\u001b[39;00m \u001b[38;5;129;01mnot\u001b[39;00m \u001b[38;5;28;01mNone\u001b[39;00m\n\u001b[1;32m-> 2352\u001b[0m     \u001b[38;5;28;01mraise\u001b[39;00m sqlalchemy_exception\u001b[38;5;241m.\u001b[39mwith_traceback(exc_info[\u001b[38;5;241m2\u001b[39m]) \u001b[38;5;28;01mfrom\u001b[39;00m \u001b[38;5;21;01me\u001b[39;00m\n\u001b[0;32m   2353\u001b[0m \u001b[38;5;28;01melse\u001b[39;00m:\n\u001b[0;32m   2354\u001b[0m     \u001b[38;5;28;01massert\u001b[39;00m exc_info[\u001b[38;5;241m1\u001b[39m] \u001b[38;5;129;01mis\u001b[39;00m \u001b[38;5;129;01mnot\u001b[39;00m \u001b[38;5;28;01mNone\u001b[39;00m\n",
      "File \u001b[1;32m~\\AppData\\Local\\Packages\\PythonSoftwareFoundation.Python.3.13_qbz5n2kfra8p0\\LocalCache\\local-packages\\Python313\\site-packages\\sqlalchemy\\engine\\base.py:2115\u001b[0m, in \u001b[0;36mConnection._exec_insertmany_context\u001b[1;34m(self, dialect, context)\u001b[0m\n\u001b[0;32m   2113\u001b[0m             \u001b[38;5;28;01mbreak\u001b[39;00m\n\u001b[0;32m   2114\u001b[0m     \u001b[38;5;28;01melse\u001b[39;00m:\n\u001b[1;32m-> 2115\u001b[0m         \u001b[43mdialect\u001b[49m\u001b[38;5;241;43m.\u001b[39;49m\u001b[43mdo_execute\u001b[49m\u001b[43m(\u001b[49m\n\u001b[0;32m   2116\u001b[0m \u001b[43m            \u001b[49m\u001b[43mcursor\u001b[49m\u001b[43m,\u001b[49m\n\u001b[0;32m   2117\u001b[0m \u001b[43m            \u001b[49m\u001b[43msub_stmt\u001b[49m\u001b[43m,\u001b[49m\n\u001b[0;32m   2118\u001b[0m \u001b[43m            \u001b[49m\u001b[43msub_params\u001b[49m\u001b[43m,\u001b[49m\n\u001b[0;32m   2119\u001b[0m \u001b[43m            \u001b[49m\u001b[43mcontext\u001b[49m\u001b[43m,\u001b[49m\n\u001b[0;32m   2120\u001b[0m \u001b[43m        \u001b[49m\u001b[43m)\u001b[49m\n\u001b[0;32m   2122\u001b[0m \u001b[38;5;28;01mexcept\u001b[39;00m \u001b[38;5;167;01mBaseException\u001b[39;00m \u001b[38;5;28;01mas\u001b[39;00m e:\n\u001b[0;32m   2123\u001b[0m     \u001b[38;5;28mself\u001b[39m\u001b[38;5;241m.\u001b[39m_handle_dbapi_exception(\n\u001b[0;32m   2124\u001b[0m         e,\n\u001b[0;32m   2125\u001b[0m         sql_util\u001b[38;5;241m.\u001b[39m_long_statement(sub_stmt),\n\u001b[1;32m   (...)\u001b[0m\n\u001b[0;32m   2129\u001b[0m         is_sub_exec\u001b[38;5;241m=\u001b[39m\u001b[38;5;28;01mTrue\u001b[39;00m,\n\u001b[0;32m   2130\u001b[0m     )\n",
      "File \u001b[1;32m~\\AppData\\Local\\Packages\\PythonSoftwareFoundation.Python.3.13_qbz5n2kfra8p0\\LocalCache\\local-packages\\Python313\\site-packages\\sqlalchemy\\engine\\default.py:942\u001b[0m, in \u001b[0;36mDefaultDialect.do_execute\u001b[1;34m(self, cursor, statement, parameters, context)\u001b[0m\n\u001b[0;32m    941\u001b[0m \u001b[38;5;28;01mdef\u001b[39;00m \u001b[38;5;21mdo_execute\u001b[39m(\u001b[38;5;28mself\u001b[39m, cursor, statement, parameters, context\u001b[38;5;241m=\u001b[39m\u001b[38;5;28;01mNone\u001b[39;00m):\n\u001b[1;32m--> 942\u001b[0m     \u001b[43mcursor\u001b[49m\u001b[38;5;241;43m.\u001b[39;49m\u001b[43mexecute\u001b[49m\u001b[43m(\u001b[49m\u001b[43mstatement\u001b[49m\u001b[43m,\u001b[49m\u001b[43m \u001b[49m\u001b[43mparameters\u001b[49m\u001b[43m)\u001b[49m\n",
      "\u001b[1;31mProgrammingError\u001b[0m: (psycopg2.errors.UndefinedColumn) ERREUR:  la colonne « first_name » de la relation « clients » n'existe pas\nLINE 1: INSERT INTO clients (id, first_name, last_name, email, gende...\n                                 ^\n\n[SQL: INSERT INTO clients (id, first_name, last_name, email, gender, ip_address) VALUES (%(id__0)s, %(first_name__0)s, %(last_name__0)s, %(email__0)s, %(gender__0)s, %(ip_address__0)s), (%(id__1)s, %(first_name__1)s, %(last_name__1)s, %(email__1)s, %(gende ... 109070 characters truncated ... 99)s, %(first_name__999)s, %(last_name__999)s, %(email__999)s, %(gender__999)s, %(ip_address__999)s)]\n[parameters: {'ip_address__0': '59.19.66.32', 'last_name__0': 'Forkan', 'first_name__0': 'Roselle', 'gender__0': 'Female', 'email__0': 'rforkan0@theatlantic.com', 'id__0': 1, 'ip_address__1': '68.57.8.62', 'last_name__1': 'Kann', 'first_name__1': 'Tybi', 'gender__1': 'Female', 'email__1': 'tkann1@cocolog-nifty.com', 'id__1': 2, 'ip_address__2': '255.24.104.11', 'last_name__2': 'Nardrup', 'first_name__2': 'Nancie', 'gender__2': 'Female', 'email__2': 'nnardrup2@sphinn.com', 'id__2': 3, 'ip_address__3': '117.229.18.188', 'last_name__3': 'McPhater', 'first_name__3': 'Ramonda', 'gender__3': 'Female', 'email__3': 'rmcphater3@usatoday.com', 'id__3': 4, 'ip_address__4': '226.189.203.113', 'last_name__4': 'Guerreiro', 'first_name__4': 'Morty', 'gender__4': 'Male', 'email__4': 'mguerreiro4@acquirethisname.com', 'id__4': 5, 'ip_address__5': '74.124.97.35', 'last_name__5': 'Bayston', 'first_name__5': 'Barret', 'gender__5': 'Male', 'email__5': 'bbayston5@washingtonpost.com', 'id__5': 6, 'ip_address__6': '106.170.247.8', 'last_name__6': 'Axton', 'first_name__6': 'Stacey', 'gender__6': 'Female', 'email__6': 'saxton6@github.com', 'id__6': 7, 'ip_address__7': '26.21.29.130', 'last_name__7': 'Turgoose', 'first_name__7': 'Alta', 'gender__7': 'Female', 'email__7': 'aturgoose7@discovery.com', 'id__7': 8, 'ip_address__8': '187.230.254.157', 'last_name__8': 'McBoyle' ... 5900 parameters truncated ... 'email__991': 'aflintofferj@miibeian.gov.cn', 'id__991': 992, 'ip_address__992': '252.230.169.197', 'last_name__992': \"Maggill'Andreis\", 'first_name__992': 'Koo', 'gender__992': 'Female', 'email__992': 'kmaggillandreisrk@homestead.com', 'id__992': 993, 'ip_address__993': '110.192.29.0', 'last_name__993': 'Tallis', 'first_name__993': 'Berni', 'gender__993': 'Bigender', 'email__993': 'btallisrl@wordpress.org', 'id__993': 994, 'ip_address__994': '124.61.116.221', 'last_name__994': 'Eggleson', 'first_name__994': 'Madelyn', 'gender__994': 'Female', 'email__994': 'megglesonrm@jigsy.com', 'id__994': 995, 'ip_address__995': '71.205.235.142', 'last_name__995': 'Glasner', 'first_name__995': 'Henrieta', 'gender__995': 'Female', 'email__995': 'hglasnerrn@wordpress.com', 'id__995': 996, 'ip_address__996': '49.59.161.75', 'last_name__996': 'Foxley', 'first_name__996': 'Marga', 'gender__996': 'Female', 'email__996': 'mfoxleyro@4shared.com', 'id__996': 997, 'ip_address__997': '59.247.250.192', 'last_name__997': 'Sackett', 'first_name__997': 'Spenser', 'gender__997': 'Male', 'email__997': 'ssackettrp@angelfire.com', 'id__997': 998, 'ip_address__998': '43.209.171.238', 'last_name__998': 'Visco', 'first_name__998': 'Mallory', 'gender__998': 'Male', 'email__998': 'mviscorq@constantcontact.com', 'id__998': 999, 'ip_address__999': '159.37.196.80', 'last_name__999': 'Terram', 'first_name__999': 'Massimo', 'gender__999': 'Male', 'email__999': 'mterramrr@nba.com', 'id__999': 1000}]\n(Background on this error at: https://sqlalche.me/e/20/f405)"
     ]
    }
   ],
   "source": [
    "df.to_sql(\"clients\", engine, if_exists=\"append\", index=False)\n"
   ]
  }
 ],
 "metadata": {
  "kernelspec": {
   "display_name": "Python 3",
   "language": "python",
   "name": "python3"
  },
  "language_info": {
   "codemirror_mode": {
    "name": "ipython",
    "version": 3
   },
   "file_extension": ".py",
   "mimetype": "text/x-python",
   "name": "python",
   "nbconvert_exporter": "python",
   "pygments_lexer": "ipython3",
   "version": "3.13.2"
  }
 },
 "nbformat": 4,
 "nbformat_minor": 2
}
