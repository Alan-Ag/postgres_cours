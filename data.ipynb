{
 "cells": [
  {
   "cell_type": "code",
   "execution_count": 2,
   "metadata": {},
   "outputs": [],
   "source": [
    "import pandas as pd"
   ]
  },
  {
   "cell_type": "code",
   "execution_count": 3,
   "metadata": {},
   "outputs": [
    {
     "data": {
      "application/vnd.microsoft.datawrangler.viewer.v0+json": {
       "columns": [
        {
         "name": "index",
         "rawType": "int64",
         "type": "integer"
        },
        {
         "name": "id",
         "rawType": "int64",
         "type": "integer"
        },
        {
         "name": "first_name",
         "rawType": "object",
         "type": "string"
        },
        {
         "name": "last_name",
         "rawType": "object",
         "type": "string"
        },
        {
         "name": "email",
         "rawType": "object",
         "type": "string"
        },
        {
         "name": "gender",
         "rawType": "object",
         "type": "string"
        },
        {
         "name": "ip_address",
         "rawType": "object",
         "type": "string"
        }
       ],
       "conversionMethod": "pd.DataFrame",
       "ref": "c4a41bf7-df1c-46b6-ad37-3f3df5d67b09",
       "rows": [
        [
         "0",
         "1",
         "Roselle",
         "Forkan",
         "rforkan0@theatlantic.com",
         "Female",
         "59.19.66.32"
        ],
        [
         "1",
         "2",
         "Tybi",
         "Kann",
         "tkann1@cocolog-nifty.com",
         "Female",
         "68.57.8.62"
        ],
        [
         "2",
         "3",
         "Nancie",
         "Nardrup",
         "nnardrup2@sphinn.com",
         "Female",
         "255.24.104.11"
        ],
        [
         "3",
         "4",
         "Ramonda",
         "McPhater",
         "rmcphater3@usatoday.com",
         "Female",
         "117.229.18.188"
        ],
        [
         "4",
         "5",
         "Morty",
         "Guerreiro",
         "mguerreiro4@acquirethisname.com",
         "Male",
         "226.189.203.113"
        ]
       ],
       "shape": {
        "columns": 6,
        "rows": 5
       }
      },
      "text/html": [
       "<div>\n",
       "<style scoped>\n",
       "    .dataframe tbody tr th:only-of-type {\n",
       "        vertical-align: middle;\n",
       "    }\n",
       "\n",
       "    .dataframe tbody tr th {\n",
       "        vertical-align: top;\n",
       "    }\n",
       "\n",
       "    .dataframe thead th {\n",
       "        text-align: right;\n",
       "    }\n",
       "</style>\n",
       "<table border=\"1\" class=\"dataframe\">\n",
       "  <thead>\n",
       "    <tr style=\"text-align: right;\">\n",
       "      <th></th>\n",
       "      <th>id</th>\n",
       "      <th>first_name</th>\n",
       "      <th>last_name</th>\n",
       "      <th>email</th>\n",
       "      <th>gender</th>\n",
       "      <th>ip_address</th>\n",
       "    </tr>\n",
       "  </thead>\n",
       "  <tbody>\n",
       "    <tr>\n",
       "      <th>0</th>\n",
       "      <td>1</td>\n",
       "      <td>Roselle</td>\n",
       "      <td>Forkan</td>\n",
       "      <td>rforkan0@theatlantic.com</td>\n",
       "      <td>Female</td>\n",
       "      <td>59.19.66.32</td>\n",
       "    </tr>\n",
       "    <tr>\n",
       "      <th>1</th>\n",
       "      <td>2</td>\n",
       "      <td>Tybi</td>\n",
       "      <td>Kann</td>\n",
       "      <td>tkann1@cocolog-nifty.com</td>\n",
       "      <td>Female</td>\n",
       "      <td>68.57.8.62</td>\n",
       "    </tr>\n",
       "    <tr>\n",
       "      <th>2</th>\n",
       "      <td>3</td>\n",
       "      <td>Nancie</td>\n",
       "      <td>Nardrup</td>\n",
       "      <td>nnardrup2@sphinn.com</td>\n",
       "      <td>Female</td>\n",
       "      <td>255.24.104.11</td>\n",
       "    </tr>\n",
       "    <tr>\n",
       "      <th>3</th>\n",
       "      <td>4</td>\n",
       "      <td>Ramonda</td>\n",
       "      <td>McPhater</td>\n",
       "      <td>rmcphater3@usatoday.com</td>\n",
       "      <td>Female</td>\n",
       "      <td>117.229.18.188</td>\n",
       "    </tr>\n",
       "    <tr>\n",
       "      <th>4</th>\n",
       "      <td>5</td>\n",
       "      <td>Morty</td>\n",
       "      <td>Guerreiro</td>\n",
       "      <td>mguerreiro4@acquirethisname.com</td>\n",
       "      <td>Male</td>\n",
       "      <td>226.189.203.113</td>\n",
       "    </tr>\n",
       "  </tbody>\n",
       "</table>\n",
       "</div>"
      ],
      "text/plain": [
       "   id first_name  last_name                            email  gender  \\\n",
       "0   1    Roselle     Forkan         rforkan0@theatlantic.com  Female   \n",
       "1   2       Tybi       Kann         tkann1@cocolog-nifty.com  Female   \n",
       "2   3     Nancie    Nardrup             nnardrup2@sphinn.com  Female   \n",
       "3   4    Ramonda   McPhater          rmcphater3@usatoday.com  Female   \n",
       "4   5      Morty  Guerreiro  mguerreiro4@acquirethisname.com    Male   \n",
       "\n",
       "        ip_address  \n",
       "0      59.19.66.32  \n",
       "1       68.57.8.62  \n",
       "2    255.24.104.11  \n",
       "3   117.229.18.188  \n",
       "4  226.189.203.113  "
      ]
     },
     "execution_count": 3,
     "metadata": {},
     "output_type": "execute_result"
    }
   ],
   "source": [
    "df = pd.read_csv('MOCK_DATA.csv')\n",
    "df.head()"
   ]
  }
 ],
 "metadata": {
  "kernelspec": {
   "display_name": "Python 3",
   "language": "python",
   "name": "python3"
  },
  "language_info": {
   "codemirror_mode": {
    "name": "ipython",
    "version": 3
   },
   "file_extension": ".py",
   "mimetype": "text/x-python",
   "name": "python",
   "nbconvert_exporter": "python",
   "pygments_lexer": "ipython3",
   "version": "3.13.2"
  }
 },
 "nbformat": 4,
 "nbformat_minor": 2
}
